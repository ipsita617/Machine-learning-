{
  "cells": [
    {
      "cell_type": "markdown",
      "metadata": {
        "id": "MbZ6RBNuCmmM"
      },
      "source": [
        "## Instructions\n",
        "\n",
        "\n",
        "If you find yourself unsure about something; then please make an appropriate assumption and explain/document your rationale.\n",
        "\n",
        "\n",
        "\n"
      ]
    },
    {
      "cell_type": "markdown",
      "metadata": {
        "id": "TXuSZjBEGx11"
      },
      "source": [
        "## Linear Regression\n",
        "\n",
        "Please download the song_data.csv for Linear Regression and Logistic Regression assignments. \n",
        "\n",
        "The audio features include attributes about the music track itself, such as duration, key, year. The metadata uses more abstract features, such as danceability, energy, or song hotttnesss. \n",
        "\n",
        "---\n",
        "\n",
        "\n",
        "Train a regression model (of your choice) to identify the energy of the song.\n",
        "1.   Briefly explain why you have chosen this model.  \n",
        "2.   Note down your cost. "
      ]
    },
    {
      "cell_type": "code",
      "execution_count": 249,
      "metadata": {
        "id": "kUEumgP5LTAX"
      },
      "outputs": [],
      "source": [
        "# Some libraries \n",
        "import pandas as pd\n",
        "from sklearn.impute import SimpleImputer\n",
        "from sklearn.model_selection import train_test_split\n",
        "from sklearn.linear_model import LinearRegression,LogisticRegression\n",
        "from sklearn.metrics import accuracy_score\n",
        "import numpy as np\n",
        "import matplotlib.pyplot as plt"
      ]
    },
    {
      "cell_type": "code",
      "source": [
        "from google.colab import drive\n",
        "drive.mount('/content/drive')"
      ],
      "metadata": {
        "colab": {
          "base_uri": "https://localhost:8080/"
        },
        "id": "ayRus_q3_ZKL",
        "outputId": "257e6de4-b0fa-45cd-c4fe-8c1bfffb6952"
      },
      "execution_count": 250,
      "outputs": [
        {
          "output_type": "stream",
          "name": "stdout",
          "text": [
            "Drive already mounted at /content/drive; to attempt to forcibly remount, call drive.mount(\"/content/drive\", force_remount=True).\n"
          ]
        }
      ]
    },
    {
      "cell_type": "code",
      "execution_count": 252,
      "metadata": {
        "id": "FP96KsopGxPK",
        "colab": {
          "base_uri": "https://localhost:8080/",
          "height": 391
        },
        "outputId": "31c35d0f-1619-48a4-ccad-e510ce78aaef"
      },
      "outputs": [
        {
          "output_type": "execute_result",
          "data": {
            "text/plain": [
              "                    song_name  song_popularity  song_duration_ms  \\\n",
              "0  Boulevard of Broken Dreams               73            262333   \n",
              "1                  In The End               66            216933   \n",
              "2           Seven Nation Army               76            231733   \n",
              "3                  By The Way               74            216933   \n",
              "4           How You Remind Me               56            223826   \n",
              "\n",
              "   acousticness  danceability  energy  instrumentalness  key  liveness  \\\n",
              "0      0.005520         0.496   0.682          0.000029    8    0.0589   \n",
              "1      0.010300         0.542   0.853          0.000000    3    0.1080   \n",
              "2      0.008170         0.737   0.463          0.447000    0    0.2550   \n",
              "3      0.026400         0.451   0.970          0.003550    0    0.1020   \n",
              "4      0.000954         0.447   0.766          0.000000   10    0.1130   \n",
              "\n",
              "   loudness  audio_mode  speechiness    tempo  time_signature  audio_valence  \n",
              "0    -4.095           1       0.0294  167.060               4          0.474  \n",
              "1    -6.407           0       0.0498  105.256               4          0.370  \n",
              "2    -7.828           1       0.0792  123.881               4          0.324  \n",
              "3    -4.938           1       0.1070  122.444               4          0.198  \n",
              "4    -5.065           1       0.0313  172.011               4          0.574  "
            ],
            "text/html": [
              "\n",
              "  <div id=\"df-e5dbda23-233e-48f5-8cf6-28c301169766\">\n",
              "    <div class=\"colab-df-container\">\n",
              "      <div>\n",
              "<style scoped>\n",
              "    .dataframe tbody tr th:only-of-type {\n",
              "        vertical-align: middle;\n",
              "    }\n",
              "\n",
              "    .dataframe tbody tr th {\n",
              "        vertical-align: top;\n",
              "    }\n",
              "\n",
              "    .dataframe thead th {\n",
              "        text-align: right;\n",
              "    }\n",
              "</style>\n",
              "<table border=\"1\" class=\"dataframe\">\n",
              "  <thead>\n",
              "    <tr style=\"text-align: right;\">\n",
              "      <th></th>\n",
              "      <th>song_name</th>\n",
              "      <th>song_popularity</th>\n",
              "      <th>song_duration_ms</th>\n",
              "      <th>acousticness</th>\n",
              "      <th>danceability</th>\n",
              "      <th>energy</th>\n",
              "      <th>instrumentalness</th>\n",
              "      <th>key</th>\n",
              "      <th>liveness</th>\n",
              "      <th>loudness</th>\n",
              "      <th>audio_mode</th>\n",
              "      <th>speechiness</th>\n",
              "      <th>tempo</th>\n",
              "      <th>time_signature</th>\n",
              "      <th>audio_valence</th>\n",
              "    </tr>\n",
              "  </thead>\n",
              "  <tbody>\n",
              "    <tr>\n",
              "      <th>0</th>\n",
              "      <td>Boulevard of Broken Dreams</td>\n",
              "      <td>73</td>\n",
              "      <td>262333</td>\n",
              "      <td>0.005520</td>\n",
              "      <td>0.496</td>\n",
              "      <td>0.682</td>\n",
              "      <td>0.000029</td>\n",
              "      <td>8</td>\n",
              "      <td>0.0589</td>\n",
              "      <td>-4.095</td>\n",
              "      <td>1</td>\n",
              "      <td>0.0294</td>\n",
              "      <td>167.060</td>\n",
              "      <td>4</td>\n",
              "      <td>0.474</td>\n",
              "    </tr>\n",
              "    <tr>\n",
              "      <th>1</th>\n",
              "      <td>In The End</td>\n",
              "      <td>66</td>\n",
              "      <td>216933</td>\n",
              "      <td>0.010300</td>\n",
              "      <td>0.542</td>\n",
              "      <td>0.853</td>\n",
              "      <td>0.000000</td>\n",
              "      <td>3</td>\n",
              "      <td>0.1080</td>\n",
              "      <td>-6.407</td>\n",
              "      <td>0</td>\n",
              "      <td>0.0498</td>\n",
              "      <td>105.256</td>\n",
              "      <td>4</td>\n",
              "      <td>0.370</td>\n",
              "    </tr>\n",
              "    <tr>\n",
              "      <th>2</th>\n",
              "      <td>Seven Nation Army</td>\n",
              "      <td>76</td>\n",
              "      <td>231733</td>\n",
              "      <td>0.008170</td>\n",
              "      <td>0.737</td>\n",
              "      <td>0.463</td>\n",
              "      <td>0.447000</td>\n",
              "      <td>0</td>\n",
              "      <td>0.2550</td>\n",
              "      <td>-7.828</td>\n",
              "      <td>1</td>\n",
              "      <td>0.0792</td>\n",
              "      <td>123.881</td>\n",
              "      <td>4</td>\n",
              "      <td>0.324</td>\n",
              "    </tr>\n",
              "    <tr>\n",
              "      <th>3</th>\n",
              "      <td>By The Way</td>\n",
              "      <td>74</td>\n",
              "      <td>216933</td>\n",
              "      <td>0.026400</td>\n",
              "      <td>0.451</td>\n",
              "      <td>0.970</td>\n",
              "      <td>0.003550</td>\n",
              "      <td>0</td>\n",
              "      <td>0.1020</td>\n",
              "      <td>-4.938</td>\n",
              "      <td>1</td>\n",
              "      <td>0.1070</td>\n",
              "      <td>122.444</td>\n",
              "      <td>4</td>\n",
              "      <td>0.198</td>\n",
              "    </tr>\n",
              "    <tr>\n",
              "      <th>4</th>\n",
              "      <td>How You Remind Me</td>\n",
              "      <td>56</td>\n",
              "      <td>223826</td>\n",
              "      <td>0.000954</td>\n",
              "      <td>0.447</td>\n",
              "      <td>0.766</td>\n",
              "      <td>0.000000</td>\n",
              "      <td>10</td>\n",
              "      <td>0.1130</td>\n",
              "      <td>-5.065</td>\n",
              "      <td>1</td>\n",
              "      <td>0.0313</td>\n",
              "      <td>172.011</td>\n",
              "      <td>4</td>\n",
              "      <td>0.574</td>\n",
              "    </tr>\n",
              "  </tbody>\n",
              "</table>\n",
              "</div>\n",
              "      <button class=\"colab-df-convert\" onclick=\"convertToInteractive('df-e5dbda23-233e-48f5-8cf6-28c301169766')\"\n",
              "              title=\"Convert this dataframe to an interactive table.\"\n",
              "              style=\"display:none;\">\n",
              "        \n",
              "  <svg xmlns=\"http://www.w3.org/2000/svg\" height=\"24px\"viewBox=\"0 0 24 24\"\n",
              "       width=\"24px\">\n",
              "    <path d=\"M0 0h24v24H0V0z\" fill=\"none\"/>\n",
              "    <path d=\"M18.56 5.44l.94 2.06.94-2.06 2.06-.94-2.06-.94-.94-2.06-.94 2.06-2.06.94zm-11 1L8.5 8.5l.94-2.06 2.06-.94-2.06-.94L8.5 2.5l-.94 2.06-2.06.94zm10 10l.94 2.06.94-2.06 2.06-.94-2.06-.94-.94-2.06-.94 2.06-2.06.94z\"/><path d=\"M17.41 7.96l-1.37-1.37c-.4-.4-.92-.59-1.43-.59-.52 0-1.04.2-1.43.59L10.3 9.45l-7.72 7.72c-.78.78-.78 2.05 0 2.83L4 21.41c.39.39.9.59 1.41.59.51 0 1.02-.2 1.41-.59l7.78-7.78 2.81-2.81c.8-.78.8-2.07 0-2.86zM5.41 20L4 18.59l7.72-7.72 1.47 1.35L5.41 20z\"/>\n",
              "  </svg>\n",
              "      </button>\n",
              "      \n",
              "  <style>\n",
              "    .colab-df-container {\n",
              "      display:flex;\n",
              "      flex-wrap:wrap;\n",
              "      gap: 12px;\n",
              "    }\n",
              "\n",
              "    .colab-df-convert {\n",
              "      background-color: #E8F0FE;\n",
              "      border: none;\n",
              "      border-radius: 50%;\n",
              "      cursor: pointer;\n",
              "      display: none;\n",
              "      fill: #1967D2;\n",
              "      height: 32px;\n",
              "      padding: 0 0 0 0;\n",
              "      width: 32px;\n",
              "    }\n",
              "\n",
              "    .colab-df-convert:hover {\n",
              "      background-color: #E2EBFA;\n",
              "      box-shadow: 0px 1px 2px rgba(60, 64, 67, 0.3), 0px 1px 3px 1px rgba(60, 64, 67, 0.15);\n",
              "      fill: #174EA6;\n",
              "    }\n",
              "\n",
              "    [theme=dark] .colab-df-convert {\n",
              "      background-color: #3B4455;\n",
              "      fill: #D2E3FC;\n",
              "    }\n",
              "\n",
              "    [theme=dark] .colab-df-convert:hover {\n",
              "      background-color: #434B5C;\n",
              "      box-shadow: 0px 1px 3px 1px rgba(0, 0, 0, 0.15);\n",
              "      filter: drop-shadow(0px 1px 2px rgba(0, 0, 0, 0.3));\n",
              "      fill: #FFFFFF;\n",
              "    }\n",
              "  </style>\n",
              "\n",
              "      <script>\n",
              "        const buttonEl =\n",
              "          document.querySelector('#df-e5dbda23-233e-48f5-8cf6-28c301169766 button.colab-df-convert');\n",
              "        buttonEl.style.display =\n",
              "          google.colab.kernel.accessAllowed ? 'block' : 'none';\n",
              "\n",
              "        async function convertToInteractive(key) {\n",
              "          const element = document.querySelector('#df-e5dbda23-233e-48f5-8cf6-28c301169766');\n",
              "          const dataTable =\n",
              "            await google.colab.kernel.invokeFunction('convertToInteractive',\n",
              "                                                     [key], {});\n",
              "          if (!dataTable) return;\n",
              "\n",
              "          const docLinkHtml = 'Like what you see? Visit the ' +\n",
              "            '<a target=\"_blank\" href=https://colab.research.google.com/notebooks/data_table.ipynb>data table notebook</a>'\n",
              "            + ' to learn more about interactive tables.';\n",
              "          element.innerHTML = '';\n",
              "          dataTable['output_type'] = 'display_data';\n",
              "          await google.colab.output.renderOutput(dataTable, element);\n",
              "          const docLink = document.createElement('div');\n",
              "          docLink.innerHTML = docLinkHtml;\n",
              "          element.appendChild(docLink);\n",
              "        }\n",
              "      </script>\n",
              "    </div>\n",
              "  </div>\n",
              "  "
            ]
          },
          "metadata": {},
          "execution_count": 252
        }
      ],
      "source": [
        "#Load data\n",
        "df =pd.read_csv(\"drive/My Drive/intro_to_ml/song_data.csv\")\n",
        "df.head()"
      ]
    },
    {
      "cell_type": "code",
      "source": [
        "df.dtypes"
      ],
      "metadata": {
        "colab": {
          "base_uri": "https://localhost:8080/"
        },
        "id": "9KwezBb9cZIe",
        "outputId": "8aff2198-d0e4-47ed-e728-88f34dc490ff"
      },
      "execution_count": 253,
      "outputs": [
        {
          "output_type": "execute_result",
          "data": {
            "text/plain": [
              "song_name            object\n",
              "song_popularity       int64\n",
              "song_duration_ms      int64\n",
              "acousticness        float64\n",
              "danceability        float64\n",
              "energy              float64\n",
              "instrumentalness    float64\n",
              "key                   int64\n",
              "liveness            float64\n",
              "loudness            float64\n",
              "audio_mode            int64\n",
              "speechiness         float64\n",
              "tempo               float64\n",
              "time_signature        int64\n",
              "audio_valence       float64\n",
              "dtype: object"
            ]
          },
          "metadata": {},
          "execution_count": 253
        }
      ]
    },
    {
      "cell_type": "code",
      "source": [
        "df['song_popularity'].unique()"
      ],
      "metadata": {
        "colab": {
          "base_uri": "https://localhost:8080/"
        },
        "id": "SBvALBY4cifi",
        "outputId": "6f3f501b-81cc-429d-be49-c671066baf32"
      },
      "execution_count": 254,
      "outputs": [
        {
          "output_type": "execute_result",
          "data": {
            "text/plain": [
              "array([ 73,  66,  76,  74,  56,  80,  81,  78,  63,  75,  69,  77,  71,\n",
              "        62,  79,  13,  28,  11,  65,  70,  60,  72,  57,  64,  61,  67,\n",
              "        94,  98,  59,  87,  85,  58,  92,  83,  44,  47,  54,  49,  52,\n",
              "        95,  45,  38,  46,  53,  39,  88,  68,  37,  43,  84,  40,  41,\n",
              "        10,  31,  48,  24,  29,  51,   4,   7,  50,  42,  30,  21,  55,\n",
              "        14,  33,   8,  16,  34,  26,  15,  19,   5,   3,  22,  36,  32,\n",
              "        35,   9,  82,  25,  86,  12,  18,  27,  17,   6,  20,   0,  90,\n",
              "        93,  91,  89,  99,  97,  96,   1,   2,  23, 100])"
            ]
          },
          "metadata": {},
          "execution_count": 254
        }
      ]
    },
    {
      "cell_type": "markdown",
      "source": [
        "Data Preprocessing\n"
      ],
      "metadata": {
        "id": "IUsrTO4Q-6El"
      }
    },
    {
      "cell_type": "code",
      "source": [],
      "metadata": {
        "id": "2CEe6gsOcYt-"
      },
      "execution_count": 254,
      "outputs": []
    },
    {
      "cell_type": "code",
      "source": [
        "# Data Pre-Processing\n",
        "# Drop non-numeric datapoints\n",
        "df = df.drop(['song_name'],axis=1)\n",
        "df.head()"
      ],
      "metadata": {
        "colab": {
          "base_uri": "https://localhost:8080/",
          "height": 270
        },
        "id": "hj5RArRFAG7R",
        "outputId": "f1a0397d-84f2-446e-9e5c-31eed7f580f1"
      },
      "execution_count": 255,
      "outputs": [
        {
          "output_type": "execute_result",
          "data": {
            "text/plain": [
              "   song_popularity  song_duration_ms  acousticness  danceability  energy  \\\n",
              "0               73            262333      0.005520         0.496   0.682   \n",
              "1               66            216933      0.010300         0.542   0.853   \n",
              "2               76            231733      0.008170         0.737   0.463   \n",
              "3               74            216933      0.026400         0.451   0.970   \n",
              "4               56            223826      0.000954         0.447   0.766   \n",
              "\n",
              "   instrumentalness  key  liveness  loudness  audio_mode  speechiness  \\\n",
              "0          0.000029    8    0.0589    -4.095           1       0.0294   \n",
              "1          0.000000    3    0.1080    -6.407           0       0.0498   \n",
              "2          0.447000    0    0.2550    -7.828           1       0.0792   \n",
              "3          0.003550    0    0.1020    -4.938           1       0.1070   \n",
              "4          0.000000   10    0.1130    -5.065           1       0.0313   \n",
              "\n",
              "     tempo  time_signature  audio_valence  \n",
              "0  167.060               4          0.474  \n",
              "1  105.256               4          0.370  \n",
              "2  123.881               4          0.324  \n",
              "3  122.444               4          0.198  \n",
              "4  172.011               4          0.574  "
            ],
            "text/html": [
              "\n",
              "  <div id=\"df-664dd324-776f-4474-bd02-d6799185b1c8\">\n",
              "    <div class=\"colab-df-container\">\n",
              "      <div>\n",
              "<style scoped>\n",
              "    .dataframe tbody tr th:only-of-type {\n",
              "        vertical-align: middle;\n",
              "    }\n",
              "\n",
              "    .dataframe tbody tr th {\n",
              "        vertical-align: top;\n",
              "    }\n",
              "\n",
              "    .dataframe thead th {\n",
              "        text-align: right;\n",
              "    }\n",
              "</style>\n",
              "<table border=\"1\" class=\"dataframe\">\n",
              "  <thead>\n",
              "    <tr style=\"text-align: right;\">\n",
              "      <th></th>\n",
              "      <th>song_popularity</th>\n",
              "      <th>song_duration_ms</th>\n",
              "      <th>acousticness</th>\n",
              "      <th>danceability</th>\n",
              "      <th>energy</th>\n",
              "      <th>instrumentalness</th>\n",
              "      <th>key</th>\n",
              "      <th>liveness</th>\n",
              "      <th>loudness</th>\n",
              "      <th>audio_mode</th>\n",
              "      <th>speechiness</th>\n",
              "      <th>tempo</th>\n",
              "      <th>time_signature</th>\n",
              "      <th>audio_valence</th>\n",
              "    </tr>\n",
              "  </thead>\n",
              "  <tbody>\n",
              "    <tr>\n",
              "      <th>0</th>\n",
              "      <td>73</td>\n",
              "      <td>262333</td>\n",
              "      <td>0.005520</td>\n",
              "      <td>0.496</td>\n",
              "      <td>0.682</td>\n",
              "      <td>0.000029</td>\n",
              "      <td>8</td>\n",
              "      <td>0.0589</td>\n",
              "      <td>-4.095</td>\n",
              "      <td>1</td>\n",
              "      <td>0.0294</td>\n",
              "      <td>167.060</td>\n",
              "      <td>4</td>\n",
              "      <td>0.474</td>\n",
              "    </tr>\n",
              "    <tr>\n",
              "      <th>1</th>\n",
              "      <td>66</td>\n",
              "      <td>216933</td>\n",
              "      <td>0.010300</td>\n",
              "      <td>0.542</td>\n",
              "      <td>0.853</td>\n",
              "      <td>0.000000</td>\n",
              "      <td>3</td>\n",
              "      <td>0.1080</td>\n",
              "      <td>-6.407</td>\n",
              "      <td>0</td>\n",
              "      <td>0.0498</td>\n",
              "      <td>105.256</td>\n",
              "      <td>4</td>\n",
              "      <td>0.370</td>\n",
              "    </tr>\n",
              "    <tr>\n",
              "      <th>2</th>\n",
              "      <td>76</td>\n",
              "      <td>231733</td>\n",
              "      <td>0.008170</td>\n",
              "      <td>0.737</td>\n",
              "      <td>0.463</td>\n",
              "      <td>0.447000</td>\n",
              "      <td>0</td>\n",
              "      <td>0.2550</td>\n",
              "      <td>-7.828</td>\n",
              "      <td>1</td>\n",
              "      <td>0.0792</td>\n",
              "      <td>123.881</td>\n",
              "      <td>4</td>\n",
              "      <td>0.324</td>\n",
              "    </tr>\n",
              "    <tr>\n",
              "      <th>3</th>\n",
              "      <td>74</td>\n",
              "      <td>216933</td>\n",
              "      <td>0.026400</td>\n",
              "      <td>0.451</td>\n",
              "      <td>0.970</td>\n",
              "      <td>0.003550</td>\n",
              "      <td>0</td>\n",
              "      <td>0.1020</td>\n",
              "      <td>-4.938</td>\n",
              "      <td>1</td>\n",
              "      <td>0.1070</td>\n",
              "      <td>122.444</td>\n",
              "      <td>4</td>\n",
              "      <td>0.198</td>\n",
              "    </tr>\n",
              "    <tr>\n",
              "      <th>4</th>\n",
              "      <td>56</td>\n",
              "      <td>223826</td>\n",
              "      <td>0.000954</td>\n",
              "      <td>0.447</td>\n",
              "      <td>0.766</td>\n",
              "      <td>0.000000</td>\n",
              "      <td>10</td>\n",
              "      <td>0.1130</td>\n",
              "      <td>-5.065</td>\n",
              "      <td>1</td>\n",
              "      <td>0.0313</td>\n",
              "      <td>172.011</td>\n",
              "      <td>4</td>\n",
              "      <td>0.574</td>\n",
              "    </tr>\n",
              "  </tbody>\n",
              "</table>\n",
              "</div>\n",
              "      <button class=\"colab-df-convert\" onclick=\"convertToInteractive('df-664dd324-776f-4474-bd02-d6799185b1c8')\"\n",
              "              title=\"Convert this dataframe to an interactive table.\"\n",
              "              style=\"display:none;\">\n",
              "        \n",
              "  <svg xmlns=\"http://www.w3.org/2000/svg\" height=\"24px\"viewBox=\"0 0 24 24\"\n",
              "       width=\"24px\">\n",
              "    <path d=\"M0 0h24v24H0V0z\" fill=\"none\"/>\n",
              "    <path d=\"M18.56 5.44l.94 2.06.94-2.06 2.06-.94-2.06-.94-.94-2.06-.94 2.06-2.06.94zm-11 1L8.5 8.5l.94-2.06 2.06-.94-2.06-.94L8.5 2.5l-.94 2.06-2.06.94zm10 10l.94 2.06.94-2.06 2.06-.94-2.06-.94-.94-2.06-.94 2.06-2.06.94z\"/><path d=\"M17.41 7.96l-1.37-1.37c-.4-.4-.92-.59-1.43-.59-.52 0-1.04.2-1.43.59L10.3 9.45l-7.72 7.72c-.78.78-.78 2.05 0 2.83L4 21.41c.39.39.9.59 1.41.59.51 0 1.02-.2 1.41-.59l7.78-7.78 2.81-2.81c.8-.78.8-2.07 0-2.86zM5.41 20L4 18.59l7.72-7.72 1.47 1.35L5.41 20z\"/>\n",
              "  </svg>\n",
              "      </button>\n",
              "      \n",
              "  <style>\n",
              "    .colab-df-container {\n",
              "      display:flex;\n",
              "      flex-wrap:wrap;\n",
              "      gap: 12px;\n",
              "    }\n",
              "\n",
              "    .colab-df-convert {\n",
              "      background-color: #E8F0FE;\n",
              "      border: none;\n",
              "      border-radius: 50%;\n",
              "      cursor: pointer;\n",
              "      display: none;\n",
              "      fill: #1967D2;\n",
              "      height: 32px;\n",
              "      padding: 0 0 0 0;\n",
              "      width: 32px;\n",
              "    }\n",
              "\n",
              "    .colab-df-convert:hover {\n",
              "      background-color: #E2EBFA;\n",
              "      box-shadow: 0px 1px 2px rgba(60, 64, 67, 0.3), 0px 1px 3px 1px rgba(60, 64, 67, 0.15);\n",
              "      fill: #174EA6;\n",
              "    }\n",
              "\n",
              "    [theme=dark] .colab-df-convert {\n",
              "      background-color: #3B4455;\n",
              "      fill: #D2E3FC;\n",
              "    }\n",
              "\n",
              "    [theme=dark] .colab-df-convert:hover {\n",
              "      background-color: #434B5C;\n",
              "      box-shadow: 0px 1px 3px 1px rgba(0, 0, 0, 0.15);\n",
              "      filter: drop-shadow(0px 1px 2px rgba(0, 0, 0, 0.3));\n",
              "      fill: #FFFFFF;\n",
              "    }\n",
              "  </style>\n",
              "\n",
              "      <script>\n",
              "        const buttonEl =\n",
              "          document.querySelector('#df-664dd324-776f-4474-bd02-d6799185b1c8 button.colab-df-convert');\n",
              "        buttonEl.style.display =\n",
              "          google.colab.kernel.accessAllowed ? 'block' : 'none';\n",
              "\n",
              "        async function convertToInteractive(key) {\n",
              "          const element = document.querySelector('#df-664dd324-776f-4474-bd02-d6799185b1c8');\n",
              "          const dataTable =\n",
              "            await google.colab.kernel.invokeFunction('convertToInteractive',\n",
              "                                                     [key], {});\n",
              "          if (!dataTable) return;\n",
              "\n",
              "          const docLinkHtml = 'Like what you see? Visit the ' +\n",
              "            '<a target=\"_blank\" href=https://colab.research.google.com/notebooks/data_table.ipynb>data table notebook</a>'\n",
              "            + ' to learn more about interactive tables.';\n",
              "          element.innerHTML = '';\n",
              "          dataTable['output_type'] = 'display_data';\n",
              "          await google.colab.output.renderOutput(dataTable, element);\n",
              "          const docLink = document.createElement('div');\n",
              "          docLink.innerHTML = docLinkHtml;\n",
              "          element.appendChild(docLink);\n",
              "        }\n",
              "      </script>\n",
              "    </div>\n",
              "  </div>\n",
              "  "
            ]
          },
          "metadata": {},
          "execution_count": 255
        }
      ]
    },
    {
      "cell_type": "markdown",
      "source": [
        "Exp1 Predicting the Energy of the song"
      ],
      "metadata": {
        "id": "3hsRiiHoRoSV"
      }
    },
    {
      "cell_type": "code",
      "source": [
        "X = np.array(df.drop(['energy'],axis=1))  # Taking all the numeric features except Energy \n",
        "y = np.array(df['energy']) # Taking Energy values as y(output)"
      ],
      "metadata": {
        "id": "Na33_psZPU-h"
      },
      "execution_count": 256,
      "outputs": []
    },
    {
      "cell_type": "code",
      "source": [
        "#splitting the data into training data and testing data \n",
        "X_train, X_test, y_train, y_test =  train_test_split(X,y,test_size = 0.3, random_state= 0)"
      ],
      "metadata": {
        "id": "3Sxsl6UdPSQ2"
      },
      "execution_count": 257,
      "outputs": []
    },
    {
      "cell_type": "code",
      "source": [
        "# Standardization of the features or feature scaling\n",
        "from sklearn.preprocessing import StandardScaler\n",
        "sc_X = StandardScaler()\n",
        "X_train = sc_X.fit_transform(X_train)\n",
        "X_test = sc_X.transform(X_test)"
      ],
      "metadata": {
        "id": "pDlMkmL9D-2Y"
      },
      "execution_count": 258,
      "outputs": []
    },
    {
      "cell_type": "code",
      "source": [
        "X,y"
      ],
      "metadata": {
        "colab": {
          "base_uri": "https://localhost:8080/"
        },
        "id": "yL89QSzmIzog",
        "outputId": "1cbb1455-c00a-4f6f-feab-639513862b95"
      },
      "execution_count": 259,
      "outputs": [
        {
          "output_type": "execute_result",
          "data": {
            "text/plain": [
              "(array([[7.30000e+01, 2.62333e+05, 5.52000e-03, ..., 1.67060e+02,\n",
              "         4.00000e+00, 4.74000e-01],\n",
              "        [6.60000e+01, 2.16933e+05, 1.03000e-02, ..., 1.05256e+02,\n",
              "         4.00000e+00, 3.70000e-01],\n",
              "        [7.60000e+01, 2.31733e+05, 8.17000e-03, ..., 1.23881e+02,\n",
              "         4.00000e+00, 3.24000e-01],\n",
              "        ...,\n",
              "        [2.30000e+01, 1.82211e+05, 8.47000e-01, ..., 1.30534e+02,\n",
              "         4.00000e+00, 2.86000e-01],\n",
              "        [5.50000e+01, 3.52280e+05, 9.45000e-01, ..., 1.06063e+02,\n",
              "         4.00000e+00, 3.23000e-01],\n",
              "        [6.00000e+01, 1.93533e+05, 9.11000e-01, ..., 9.14900e+01,\n",
              "         4.00000e+00, 5.81000e-01]]),\n",
              " array([0.682, 0.853, 0.463, ..., 0.325, 0.326, 0.381]))"
            ]
          },
          "metadata": {},
          "execution_count": 259
        }
      ]
    },
    {
      "cell_type": "code",
      "source": [
        "#Training\n",
        "model = LinearRegression()\n",
        "model.fit(X_train,y_train)"
      ],
      "metadata": {
        "id": "X3XkQA6-Z58E",
        "colab": {
          "base_uri": "https://localhost:8080/"
        },
        "outputId": "d3c5be5e-eec5-41f1-c522-509ee1c85f3b"
      },
      "execution_count": 262,
      "outputs": [
        {
          "output_type": "execute_result",
          "data": {
            "text/plain": [
              "LinearRegression()"
            ]
          },
          "metadata": {},
          "execution_count": 262
        }
      ]
    },
    {
      "cell_type": "code",
      "source": [
        "# Testing\n",
        "predictions = model.predict(X_test)\n",
        "print(y_test,predictions)"
      ],
      "metadata": {
        "colab": {
          "base_uri": "https://localhost:8080/"
        },
        "id": "PtrJ2QsANrVs",
        "outputId": "72e01537-f0bf-4533-825d-611691b48304"
      },
      "execution_count": 263,
      "outputs": [
        {
          "output_type": "stream",
          "name": "stdout",
          "text": [
            "[0.878 0.669 0.457 ... 0.741 0.921 0.508] [0.87587179 0.72380205 0.61524423 ... 0.59806582 0.70081026 0.66854739]\n"
          ]
        }
      ]
    },
    {
      "cell_type": "code",
      "source": [
        "plt.figure(figsize=(8,8))\n",
        "plt.scatter(y_test,predictions, c='crimson')\n",
        "\n",
        "p1 = max(max(predictions), max(y_test))\n",
        "p2 = min(min(predictions), min(y_test))\n",
        "plt.plot([p1, p2], [p1, p2], 'b-')\n",
        "plt.xlabel('True Values', fontsize=12)\n",
        "plt.ylabel('Predictions', fontsize=12)\n",
        "plt.axis('equal')\n",
        "plt.show()"
      ],
      "metadata": {
        "colab": {
          "base_uri": "https://localhost:8080/",
          "height": 500
        },
        "id": "i8vM2wQATJVY",
        "outputId": "93aa848a-e4bd-49f2-ee64-3daf7601294a"
      },
      "execution_count": 264,
      "outputs": [
        {
          "output_type": "display_data",
          "data": {
            "text/plain": [
              "<Figure size 576x576 with 1 Axes>"
            ],
            "image/png": "[encoded data removed]"
          },
          "metadata": {
            "needs_background": "light"
          }
        }
      ]
    },
    {
      "cell_type": "code",
      "source": [
        "# Testing\n",
        "predictions = model.predict(X_test)\n",
        "print(y_test,predictions)"
      ],
      "metadata": {
        "colab": {
          "base_uri": "https://localhost:8080/"
        },
        "id": "xC6ENES8KsJy",
        "outputId": "3865d794-12f2-4f1a-90bf-a14460721995"
      },
      "execution_count": null,
      "outputs": [
        {
          "output_type": "stream",
          "name": "stdout",
          "text": [
            "[0.878 0.669 0.457 ... 0.741 0.921 0.508] [0.87587179 0.72380205 0.61524423 ... 0.59806582 0.70081026 0.66854739]\n"
          ]
        }
      ]
    },
    {
      "cell_type": "code",
      "source": [
        "error = predictions - y_test\n",
        "print(error)"
      ],
      "metadata": {
        "colab": {
          "base_uri": "https://localhost:8080/"
        },
        "id": "1CMq_cxVXShv",
        "outputId": "6cef3d74-dde5-4735-b775-10e10b83669d"
      },
      "execution_count": null,
      "outputs": [
        {
          "output_type": "stream",
          "name": "stdout",
          "text": [
            "[-0.00212821  0.05480205  0.15824423 ... -0.14293418 -0.22018974\n",
            "  0.16054739]\n"
          ]
        }
      ]
    },
    {
      "cell_type": "code",
      "source": [
        "cost = np.sum(np.power(predictions,2) - np.power(y_test,2)) /(len(predictions))\n",
        "print(cost)"
      ],
      "metadata": {
        "colab": {
          "base_uri": "https://localhost:8080/"
        },
        "id": "FXLFbNBaKv_N",
        "outputId": "93d3b2e6-a791-44e5-8074-b7427a61b108"
      },
      "execution_count": null,
      "outputs": [
        {
          "output_type": "stream",
          "name": "stdout",
          "text": [
            "-0.01049183745578807\n"
          ]
        }
      ]
    },
    {
      "cell_type": "code",
      "source": [],
      "metadata": {
        "id": "Ocs5K3eIWgUR"
      },
      "execution_count": null,
      "outputs": []
    },
    {
      "cell_type": "markdown",
      "metadata": {
        "id": "t4xnx1AaVnCr"
      },
      "source": [
        "## Logistic Regression\n",
        "\n",
        "Using the same data as above and train the model to classify it as whether it is danceable or not.\n",
        "\n",
        "We define a song as danceable when the dancability score of the song is $\\geq0.5$ and not not dancable when the dancablility score $<0.5$. "
      ]
    },
    {
      "cell_type": "code",
      "source": [
        "# Define your X (everything except song_popularity) and y (song_popularity)\n",
        "x1 = np.array(df.drop(['danceability'],axis=1))\n",
        "y1 = np.array(df['danceability'])\n",
        "y1[y1<0.5] =0\n",
        "y1[y1>=0.5] = 1"
      ],
      "metadata": {
        "id": "-_HdsWJQa5eR"
      },
      "execution_count": 265,
      "outputs": []
    },
    {
      "cell_type": "code",
      "source": [
        "#Divide the data into testing dataset and training dataset\n",
        "x1_train,x1_test,y1_train,y1_test = train_test_split(x1,y1,test_size=0.2,random_state=0)"
      ],
      "metadata": {
        "id": "teOVSMXta7Gj"
      },
      "execution_count": 266,
      "outputs": []
    },
    {
      "cell_type": "code",
      "execution_count": 267,
      "metadata": {
        "id": "R7LI2oBWVpYQ",
        "colab": {
          "base_uri": "https://localhost:8080/"
        },
        "outputId": "45a15d32-1fc0-448a-ed57-07cb2e930f6f"
      },
      "outputs": [
        {
          "output_type": "stream",
          "name": "stdout",
          "text": [
            "81.23174940270772\n"
          ]
        }
      ],
      "source": [
        "#Training\n",
        "model = LogisticRegression()\n",
        "model.fit(x1_train,y1_train)\n",
        "\n",
        "\n",
        "# Testing\n",
        "prediction_logistic = model.predict(x1_test)\n",
        "# print(prediction_logistic)\n",
        "n=0\n",
        "for i in range(len(prediction_logistic)):\n",
        "    if prediction_logistic[i] == y1_test[i]:\n",
        "        n+=1\n",
        "print(n/len(prediction_logistic) *100) # 0.0% accuracy\n"
      ]
    },
    {
      "cell_type": "code",
      "source": [
        "import seaborn as sns\n",
        "sns.displot(df, x=\"danceability\")"
      ],
      "metadata": {
        "colab": {
          "base_uri": "https://localhost:8080/",
          "height": 387
        },
        "id": "LBwgJ1lwN1y3",
        "outputId": "174bd7b3-0421-4e84-8eef-8e678c671002"
      },
      "execution_count": 268,
      "outputs": [
        {
          "output_type": "execute_result",
          "data": {
            "text/plain": [
              "<seaborn.axisgrid.FacetGrid at 0x7f3eeeccb6d0>"
            ]
          },
          "metadata": {},
          "execution_count": 268
        },
        {
          "output_type": "display_data",
          "data": {
            "text/plain": [
              "<Figure size 360x360 with 1 Axes>"
            ],
            "image/png": "[encoded data removed]"
          },
          "metadata": {
            "needs_background": "light"
          }
        }
      ]
    },
    {
      "cell_type": "code",
      "source": [
        "df['danceability'][df['danceability'] < 0.5] =0\n",
        "df['danceability'][df['danceability'] >=0.5] = 1"
      ],
      "metadata": {
        "colab": {
          "base_uri": "https://localhost:8080/"
        },
        "id": "rOt-eeziN169",
        "outputId": "ebea6b8e-d592-4f1e-9694-37b0a8c7b902"
      },
      "execution_count": 270,
      "outputs": [
        {
          "output_type": "stream",
          "name": "stderr",
          "text": [
            "/usr/local/lib/python3.7/dist-packages/ipykernel_launcher.py:1: SettingWithCopyWarning: \n",
            "A value is trying to be set on a copy of a slice from a DataFrame\n",
            "\n",
            "See the caveats in the documentation: https://pandas.pydata.org/pandas-docs/stable/user_guide/indexing.html#returning-a-view-versus-a-copy\n",
            "  \"\"\"Entry point for launching an IPython kernel.\n",
            "/usr/local/lib/python3.7/dist-packages/ipykernel_launcher.py:2: SettingWithCopyWarning: \n",
            "A value is trying to be set on a copy of a slice from a DataFrame\n",
            "\n",
            "See the caveats in the documentation: https://pandas.pydata.org/pandas-docs/stable/user_guide/indexing.html#returning-a-view-versus-a-copy\n",
            "  \n"
          ]
        }
      ]
    },
    {
      "cell_type": "code",
      "source": [
        "sns.countplot(df['danceability'])"
      ],
      "metadata": {
        "colab": {
          "base_uri": "https://localhost:8080/",
          "height": 353
        },
        "id": "WyqdXRMPOB01",
        "outputId": "05c800b2-6df0-4564-daab-3b324febd312"
      },
      "execution_count": 271,
      "outputs": [
        {
          "output_type": "stream",
          "name": "stderr",
          "text": [
            "/usr/local/lib/python3.7/dist-packages/seaborn/_decorators.py:43: FutureWarning: Pass the following variable as a keyword arg: x. From version 0.12, the only valid positional argument will be `data`, and passing other arguments without an explicit keyword will result in an error or misinterpretation.\n",
            "  FutureWarning\n"
          ]
        },
        {
          "output_type": "execute_result",
          "data": {
            "text/plain": [
              "<matplotlib.axes._subplots.AxesSubplot at 0x7f3eeecad2d0>"
            ]
          },
          "metadata": {},
          "execution_count": 271
        },
        {
          "output_type": "display_data",
          "data": {
            "text/plain": [
              "<Figure size 432x288 with 1 Axes>"
            ],
            "image/png": "[encoded data removed]"
          },
          "metadata": {
            "needs_background": "light"
          }
        }
      ]
    },
    {
      "cell_type": "code",
      "source": [
        "y1[y1<=0.5] = 0\n",
        "y1[y1>0.5] = 1"
      ],
      "metadata": {
        "id": "LguGuB-YN-y0"
      },
      "execution_count": 272,
      "outputs": []
    },
    {
      "cell_type": "code",
      "source": [
        "p,n = np.sum(y1 == 1),np.sum(y1 == 0)\n",
        "p,n"
      ],
      "metadata": {
        "colab": {
          "base_uri": "https://localhost:8080/"
        },
        "id": "P1kwAOKpOFcm",
        "outputId": "90f76ecb-40fe-4a51-a3d1-3d0d61a668fa"
      },
      "execution_count": 273,
      "outputs": [
        {
          "output_type": "execute_result",
          "data": {
            "text/plain": [
              "(15164, 3671)"
            ]
          },
          "metadata": {},
          "execution_count": 273
        }
      ]
    },
    {
      "cell_type": "code",
      "source": [
        "#Divide the data into testing dataset and training dataset\n",
        "x1_train,x1_test,y1_train,y1_test = train_test_split(x1,y1,test_size=0.2,random_state=0)"
      ],
      "metadata": {
        "id": "3Rzy7CxOOI_y"
      },
      "execution_count": 274,
      "outputs": []
    },
    {
      "cell_type": "code",
      "source": [
        "#Training\n",
        "model = LogisticRegression()\n",
        "model.fit(x1_train,y1_train)\n",
        "\n",
        "\n",
        "# Testing\n",
        "prediction_logistic = model.predict(x1_test)\n",
        "# print(prediction_logistic)\n",
        "n=0\n",
        "for i in range(len(prediction_logistic)):\n",
        "    if prediction_logistic[i] == y1_test[i]:\n",
        "        n+=1\n",
        "print(n/len(prediction_logistic) *100) # 0.0% accuracy\n"
      ],
      "metadata": {
        "colab": {
          "base_uri": "https://localhost:8080/"
        },
        "id": "K3lQocc_OJDA",
        "outputId": "091680c4-372e-4264-a3eb-0c4060703642"
      },
      "execution_count": 275,
      "outputs": [
        {
          "output_type": "stream",
          "name": "stdout",
          "text": [
            "81.23174940270772\n"
          ]
        }
      ]
    },
    {
      "cell_type": "code",
      "source": [
        "plt.plot(y1_test,prediction_logistic)"
      ],
      "metadata": {
        "colab": {
          "base_uri": "https://localhost:8080/",
          "height": 283
        },
        "id": "vpTwiHrkOJF3",
        "outputId": "1647d144-fb72-49c0-cd82-362ecb3f1493"
      },
      "execution_count": 276,
      "outputs": [
        {
          "output_type": "execute_result",
          "data": {
            "text/plain": [
              "[<matplotlib.lines.Line2D at 0x7f3eeed92090>]"
            ]
          },
          "metadata": {},
          "execution_count": 276
        },
        {
          "output_type": "display_data",
          "data": {
            "text/plain": [
              "<Figure size 432x288 with 1 Axes>"
            ],
            "image/png": "[encoded data removed]"
          },
          "metadata": {
            "needs_background": "light"
          }
        }
      ]
    },
    {
      "cell_type": "markdown",
      "metadata": {
        "id": "ACVgTXbxLPXj"
      },
      "source": [
        "## Perceptron"
      ]
    },
    {
      "cell_type": "markdown",
      "source": [
        "Q. Consider the following code to generate two datasets: one linear (X1, y1) and another non-linear (X2, y2). You can change parameters for your convenience.\n",
        "\n",
        "from sklearn import datasets\n",
        "X1, y1 = datasets.make_classification(n_features=2, n_classes=2, n_samples=200, n_redundant=0, n_clusters_per_class=1)\n",
        "X2, y2 = datasets.make_circles(n_samples=200, noise=0.03, factor=0.7)\n",
        "\n",
        "(a) Implement the Perceptron algorithm from scratch. Verify if the algorithm takes atmost (RB)^2 iterations. R and B has usual meanings (Refer Theorem 9.1 in UML book)\n",
        "    [Use (X1, y1) dataset]\t\t\t\t[7 marks]\n",
        "\n",
        "(b) Now use the (X2, y2) dataset and give an idea to solve the problem as a Binary classification problem using Perceptron.\t\t[3 marks]\n",
        "\t[Web Resource: https://towardsdatascience.com/perceptron-explanation-implementation-and-a-visual-example-3c8e76b4e2d1]"
      ],
      "metadata": {
        "id": "bEw5wpyJTXrb"
      }
    },
    {
      "cell_type": "code",
      "source": [
        "from sklearn import datasets\n",
        "X1, y1 = datasets.make_classification(n_features=2, n_classes=2, n_samples=200, n_redundant=0, n_clusters_per_class=1) #Linear Dataset\n",
        "X2, y2 = datasets.make_circles(n_samples=200, noise=0.03, factor=0.7)   #Non-Linear Dataset\n",
        "\n"
      ],
      "metadata": {
        "id": "Y-Q47WEFTip5"
      },
      "execution_count": 277,
      "outputs": []
    },
    {
      "cell_type": "code",
      "source": [
        "def input_withBias(X):\n",
        "  bias = np.ones((X.shape[0],1))\n",
        "  X0 = np.ones((X.shape[0],X.shape[1]+1))\n",
        "  X0[:,:-1] = bias\n",
        "  X0[:,:X1.shape[1]]=X\n",
        "  return X0\n",
        "\n",
        "def Weighted_input(X0, w):\n",
        "    '''Compute net input as dot product'''\n",
        "    return np.dot(X0, w)\n",
        "    \n",
        "def predicted_output(X, w):\n",
        "    '''Return class label after unit step'''\n",
        "    return np.where(Weighted_input(X, w) >= 0.0, 1, -1)\n",
        "\n",
        "def percep_fit(X, y, eta=1, n_iter=100):\n",
        "    '''loop over exemplars and update weights'''\n",
        "    w = np.zeros(X.shape[1])\n",
        "    for exemplar in range(n_iter):\n",
        "        for xi, target in zip(X, y):\n",
        "          if(target==1 and predicted_output(xi, w)<0):\n",
        "            w += xi\n",
        "          elif(target==0 and predicted_output(xi, w)>0):\n",
        "            w -= xi   \n",
        "    return w"
      ],
      "metadata": {
        "id": "MNASfqhC4tPs"
      },
      "execution_count": 278,
      "outputs": []
    },
    {
      "cell_type": "code",
      "source": [
        "\n",
        "w,total_iterations ,total_error= percep_fit(input_withBias(X1), y1, eta=1, n_iter=200)\n",
        "print(w,total_iterations)"
      ],
      "metadata": {
        "colab": {
          "base_uri": "https://localhost:8080/"
        },
        "id": "D95cE8FeP4fX",
        "outputId": "59385574-3e40-4aea-b4cc-ac3303de2a73"
      },
      "execution_count": 303,
      "outputs": [
        {
          "output_type": "stream",
          "name": "stdout",
          "text": [
            "-3.2984763277403415 -1.7634448619077023\n"
          ]
        }
      ]
    },
    {
      "cell_type": "code",
      "source": [
        "print(total_error) #error is not reducing since data is not completely separable"
      ],
      "metadata": {
        "colab": {
          "base_uri": "https://localhost:8080/"
        },
        "id": "b6Iw7Q8gP4jB",
        "outputId": "23023ce1-9d69-4095-f4e2-15d119f65806"
      },
      "execution_count": 305,
      "outputs": [
        {
          "output_type": "stream",
          "name": "stdout",
          "text": [
            "0.0\n"
          ]
        }
      ]
    },
    {
      "cell_type": "code",
      "source": [
        "#Plotting Data\n",
        "Q1x=[]\n",
        "Q1y=[]\n",
        "Q2x=[]\n",
        "Q2y=[]\n",
        "for xi, target in zip(X1, y1):\n",
        "  if(target==1):\n",
        "    Q1x.append(xi[0])\n",
        "    Q1y.append(xi[1])\n",
        "  else:\n",
        "    Q2x.append(xi[0])\n",
        "    Q2y.append(xi[1])\n",
        "# print(Q1,Q2)\n",
        "\n",
        "Qx = np.hstack((Q1x, Q2x))\n",
        "Qy = np.hstack((Q1y, Q2y))\n",
        "# print(len(Q2x),len(Q2y),len(Q1x),len(Q1y))\n",
        "fig, ax = plt.subplots(nrows=1, ncols=1)\n",
        "\n",
        "plt.scatter(Qx[:100], Qy[:100], color=\"blue\", alpha=0.3)\n",
        "plt.scatter(Qx[100:], Qy[100:], color=\"red\", alpha=0.3)\n",
        "\n",
        "ax = plt.gca()\n",
        "# howblack = 0.15\n",
        "# ax.set_facecolor((howblack, howblack, howblack))\n",
        "plt.show()"
      ],
      "metadata": {
        "colab": {
          "base_uri": "https://localhost:8080/",
          "height": 265
        },
        "id": "FE99hwm5P4mY",
        "outputId": "8b6050fe-02a0-47ed-a0a2-5b088a505390"
      },
      "execution_count": 306,
      "outputs": [
        {
          "output_type": "display_data",
          "data": {
            "text/plain": [
              "<Figure size 432x288 with 1 Axes>"
            ],
            "image/png": "[encoded data removed]"
          },
          "metadata": {
            "needs_background": "light"
          }
        }
      ]
    },
    {
      "cell_type": "code",
      "source": [],
      "metadata": {
        "id": "z5BDGqQxP4pL"
      },
      "execution_count": null,
      "outputs": []
    },
    {
      "cell_type": "code",
      "source": [
        "\n",
        "w = percep_fit(input_withBias(X1), y1, eta=1, n_iter=250)\n",
        " #print(w)"
      ],
      "metadata": {
        "id": "tk0dSK7IfZI0"
      },
      "execution_count": 279,
      "outputs": []
    },
    {
      "cell_type": "code",
      "source": [
        "theta=w\n",
        "print(w)\n",
        "theta = theta.reshape(3)# getting the x co-ordinates of the decision boundary\n",
        "plot_x = np.array([min(X1[:,0]) - 2, max(X1[:,0]) + 2])\n",
        "# getting corresponding y co-ordinates of the decision boundary\n",
        "plot_y = (-1/theta[1]) * (theta[0] * plot_x + theta[2])# Plotting the Single Line Decision Boundary\n",
        "# create scatter plot for samples from each class\n",
        "for class_value in range(2):\n",
        "\t# get row indexes for samples with this class\n",
        "\trow_ix = np.where(y1 == class_value)\n",
        "\t# create scatter of these samples\n",
        "\tplt.scatter(X1[row_ix, 0], X1[row_ix, 1])\n",
        "# show the plot\n",
        "plt.plot(plot_x, plot_y, label = \"Decision_Boundary\")\n",
        "plt.show()"
      ],
      "metadata": {
        "colab": {
          "base_uri": "https://localhost:8080/",
          "height": 283
        },
        "id": "fW9ZyCHr7MAg",
        "outputId": "1abf9157-38b3-495d-91fd-c5c1f25c12a7"
      },
      "execution_count": 280,
      "outputs": [
        {
          "output_type": "stream",
          "name": "stdout",
          "text": [
            "[-4.34896787 -1.14350213  0.        ]\n"
          ]
        },
        {
          "output_type": "display_data",
          "data": {
            "text/plain": [
              "<Figure size 432x288 with 1 Axes>"
            ],
            "image/png": "[encoded data removed]"
          },
          "metadata": {
            "needs_background": "light"
          }
        }
      ]
    },
    {
      "cell_type": "code",
      "source": [
        "from numpy import linalg as LA\n",
        "x_norm=[]\n",
        "for i in range(0,X1.shape[0]):\n",
        "  x_norm.append(LA.norm(X1[i]))\n",
        "R=max(x_norm)\n",
        "B=LA.norm(w)\n",
        "print((R*B)*(R*B)) # Approximately 250 iterations(RB squared) divides the data with least error possible but It requires 1000 or more iterations to separate the classification data completely."
      ],
      "metadata": {
        "colab": {
          "base_uri": "https://localhost:8080/"
        },
        "id": "-ri7DYue74OE",
        "outputId": "201ceb3c-f09c-486b-d88b-574d1139059e"
      },
      "execution_count": 281,
      "outputs": [
        {
          "output_type": "stream",
          "name": "stdout",
          "text": [
            "219.62032853230482\n"
          ]
        }
      ]
    },
    {
      "cell_type": "code",
      "source": [
        "#Visualizing the Non-linearly separable Data\n",
        "for class_value in range(2):\n",
        "\trow_ix = np.where(y2 == class_value)\n",
        "\tplt.scatter(X2[row_ix, 0], X2[row_ix, 1])\n",
        "# show the plot\n",
        "plt.show()\n",
        "\n"
      ],
      "metadata": {
        "id": "zOeSHbwUtQiI",
        "colab": {
          "base_uri": "https://localhost:8080/",
          "height": 265
        },
        "outputId": "82e2c958-f4d5-46f7-a0c4-e7e2771374c0"
      },
      "execution_count": 282,
      "outputs": [
        {
          "output_type": "display_data",
          "data": {
            "text/plain": [
              "<Figure size 432x288 with 1 Axes>"
            ],
            "image/png": "[encoded data removed]"
          },
          "metadata": {
            "needs_background": "light"
          }
        }
      ]
    },
    {
      "cell_type": "code",
      "source": [
        "P1 = X2[:, 0].reshape((-1, 1))\n",
        "P2 = X2[:, 1].reshape((-1, 1))\n",
        "P3 = (P1**2 + P2**2)\n",
        "X2 = np.hstack((X2, P3))\n",
        "  \n",
        "# visualizing data in higher dimension\n",
        "fig = plt.figure()\n",
        "axes = fig.add_subplot(111, projection = '3d')\n",
        "axes.scatter(P1, P2, P1**2 + P2**2, c = y2, depthshade = True)\n",
        "plt.show()"
      ],
      "metadata": {
        "colab": {
          "base_uri": "https://localhost:8080/",
          "height": 248
        },
        "id": "8qwPDvs6L3u9",
        "outputId": "ce610707-5e9c-4c46-e0a7-ad2ddbb1e713"
      },
      "execution_count": 283,
      "outputs": [
        {
          "output_type": "display_data",
          "data": {
            "text/plain": [
              "<Figure size 432x288 with 1 Axes>"
            ],
            "image/png": "[encoded data removed]"
          },
          "metadata": {
            "needs_background": "light"
          }
        }
      ]
    },
    {
      "cell_type": "code",
      "source": [
        "from sklearn import svm\n",
        "  \n",
        "svc = svm.SVC(kernel = 'linear')\n",
        "svc.fit(X2, y2)\n",
        "w = svc.coef_\n",
        "b = svc.intercept_\n",
        "  \n",
        "# plotting the separating hyperplane\n",
        "p1 = X2[:, 0].reshape((-1, 1))\n",
        "p2 = X2[:, 1].reshape((-1, 1))\n",
        "p1, p2 = np.meshgrid(p1, p2)\n",
        "p3 = -(w[0][0]*p1 + w[0][1]*p2 + b) / w[0][2]\n",
        "  \n",
        "fig = plt.figure()\n",
        "axes2 = fig.add_subplot(111, projection = '3d')\n",
        "axes2.scatter(P1, P2, P1**2 + P2**2, c = y2, depthshade = True)\n",
        "axes1 = fig.gca(projection = '3d')\n",
        "axes1.plot_surface(p1, p2, p3, alpha = 0.01)\n",
        "plt.show()"
      ],
      "metadata": {
        "colab": {
          "base_uri": "https://localhost:8080/",
          "height": 248
        },
        "id": "Megs4sLBMhTx",
        "outputId": "8eb4066d-dc50-4454-a704-7775b0f9e694"
      },
      "execution_count": 284,
      "outputs": [
        {
          "output_type": "display_data",
          "data": {
            "text/plain": [
              "<Figure size 432x288 with 1 Axes>"
            ],
            "image/png": "[encoded data removed]"
          },
          "metadata": {
            "needs_background": "light"
          }
        }
      ]
    },
    {
      "cell_type": "markdown",
      "source": [
        "Q. Implement  3×1 MUX  for a boolean function with three variables (Use Pytorch)\n",
        "                    (i) Make simple AND, OR, NOT logic gates using one layer perceptron combine them to make XOR. (XOR: F(A,B,C) = A'B + AB'+ B'C + BC').\n",
        "                    (ii) Make a MLP for XOR gate of 3 variables and plot the decision boundary.\n",
        "                    (iii) Comment on the complexity of both.\n",
        "\n",
        "Useful Web Resources: https://d1b10bmlvqabco.cloudfront.net/attach/jl2b00mpen3au/jl2b0jnvzgn3hf/jn9f4p17wi31/CMSC422Perceptrons.pdf]9"
      ],
      "metadata": {
        "id": "uDFnqDq-TdpI"
      }
    },
    {
      "cell_type": "code",
      "source": [
        "#importing neccessary and useful libraries\n",
        "import torch \n",
        "from torch.autograd import Variable\n",
        "import torch.nn as nn\n",
        "import torch.nn.functional as F\n",
        "import torch.optim as optim\n",
        "import numpy as np\n",
        "import matplotlib.pyplot as plt\n",
        "from mpl_toolkits.mplot3d import axes3d  #3D\n",
        "from matplotlib import cm # for fancy plotting\n",
        "%matplotlib inline\n",
        "torch.manual_seed(2)"
      ],
      "metadata": {
        "colab": {
          "base_uri": "https://localhost:8080/"
        },
        "id": "9UguJG77OpBy",
        "outputId": "454f70dc-47aa-4da9-ee28-a8714a7c3802"
      },
      "execution_count": 285,
      "outputs": [
        {
          "output_type": "execute_result",
          "data": {
            "text/plain": [
              "<torch._C.Generator at 0x7f3efeebe970>"
            ]
          },
          "metadata": {},
          "execution_count": 285
        }
      ]
    },
    {
      "cell_type": "code",
      "source": [
        "device = torch.device(\"cuda:0\" if torch.cuda.is_available() else \"cpu\")"
      ],
      "metadata": {
        "id": "ljFt4EzQa8c5"
      },
      "execution_count": 286,
      "outputs": []
    },
    {
      "cell_type": "code",
      "source": [
        "# Perceptron Model\n",
        "class Perceptron():\n",
        "    def __init__(self, num_features):\n",
        "        self.num_features = num_features\n",
        "        self.weights = torch.zeros(num_features, 1, \n",
        "                                   dtype=torch.float32, device=device)\n",
        "        self.bias = torch.zeros(1, dtype=torch.float32, device=device)\n",
        "        \n",
        "        # placeholder vectors so they don't\n",
        "        # need to be recreated each time\n",
        "        self.ones = torch.ones(1)\n",
        "        self.zeros = torch.zeros(1)\n",
        "\n",
        "    def forward(self, x):\n",
        "        linear = torch.mm(x, self.weights) + self.bias\n",
        "        predictions = torch.where(linear > 0., self.ones, self.zeros)\n",
        "        return predictions\n",
        "        \n",
        "    def backward(self, x, y):  \n",
        "        predictions = self.forward(x)\n",
        "        errors = y - predictions\n",
        "        return errors\n",
        "        \n",
        "    def train(self, x, y, epochs):\n",
        "        for e in range(epochs):\n",
        "            for i in range(y.shape[0]):\n",
        "                # use view because backward expects a matrix (i.e., 2D tensor)\n",
        "                errors = self.backward(x[i].reshape(1, self.num_features), y[i]).reshape(-1)\n",
        "                self.weights += (errors * x[i]).reshape(self.num_features, 1)\n",
        "                self.bias += errors\n",
        "                \n",
        "    def evaluate(self, x, y):\n",
        "        predictions = self.forward(x).reshape(-1)\n",
        "        accuracy = torch.sum(predictions == y).float() / y.shape[0]\n",
        "        return accuracy\n",
        "\n",
        "    def predict(self,x_num):\n",
        "        x_tensor = torch.tensor(np.array(x_num).reshape(-1,self.num_features), dtype=torch.float32, device=device)\n",
        "        predictions = self.forward(x_tensor).reshape(-1)\n",
        "        return predictions.numpy()[0]"
      ],
      "metadata": {
        "id": "gi13CkN6Zgpe"
      },
      "execution_count": 287,
      "outputs": []
    },
    {
      "cell_type": "code",
      "source": [
        "x = torch.Tensor([[0,0],[0,1],[1,0],[1,1]]).reshape(-1,2)\n",
        "y_and = torch.Tensor([0,0,0,1]).reshape(-1,1)\n",
        "y_or = torch.Tensor([0,1,1,1]).reshape(-1,1)\n",
        "x_not = torch.Tensor([[0],[1]]).reshape(-1,1)\n",
        "y_not =  torch.Tensor([[1],[0]]).reshape(-1,1)\n",
        "y_xor = torch.Tensor([0,1,1,0]).reshape(-1,1)\n",
        "print(x)\n",
        "print(y_and)\n",
        "print(y_or)\n",
        "print(y_not)\n"
      ],
      "metadata": {
        "colab": {
          "base_uri": "https://localhost:8080/"
        },
        "id": "2IBHj4WVOpE1",
        "outputId": "f8720f99-dfe8-4b92-e52e-1858c4222794"
      },
      "execution_count": 288,
      "outputs": [
        {
          "output_type": "stream",
          "name": "stdout",
          "text": [
            "tensor([[0., 0.],\n",
            "        [0., 1.],\n",
            "        [1., 0.],\n",
            "        [1., 1.]])\n",
            "tensor([[0.],\n",
            "        [0.],\n",
            "        [0.],\n",
            "        [1.]])\n",
            "tensor([[0.],\n",
            "        [1.],\n",
            "        [1.],\n",
            "        [1.]])\n",
            "tensor([[1.],\n",
            "        [0.]])\n"
          ]
        }
      ]
    },
    {
      "cell_type": "code",
      "source": [
        "#Training the AND using single layer perceptron\n",
        "and_ppn = Perceptron(num_features=2)\n",
        "\n",
        "x_train_tensor = torch.tensor(x, dtype=torch.float32, device=device)\n",
        "y_train_tensor = torch.tensor(y_and, dtype=torch.float32, device=device)\n",
        "\n",
        "and_ppn.train(x_train_tensor, y_train_tensor, epochs=5)\n",
        "print('Model parameters:')\n",
        "print('  Weights: %s' % and_ppn.weights)\n",
        "print('  Bias: %s' % and_ppn.bias)"
      ],
      "metadata": {
        "colab": {
          "base_uri": "https://localhost:8080/"
        },
        "id": "v0VKdZhcaWXa",
        "outputId": "b1292f75-f38c-48fd-babc-d1b54827a40c"
      },
      "execution_count": 289,
      "outputs": [
        {
          "output_type": "stream",
          "name": "stdout",
          "text": [
            "Model parameters:\n",
            "  Weights: tensor([[2.],\n",
            "        [1.]])\n",
            "  Bias: tensor([-2.])\n"
          ]
        },
        {
          "output_type": "stream",
          "name": "stderr",
          "text": [
            "/usr/local/lib/python3.7/dist-packages/ipykernel_launcher.py:4: UserWarning: To copy construct from a tensor, it is recommended to use sourceTensor.clone().detach() or sourceTensor.clone().detach().requires_grad_(True), rather than torch.tensor(sourceTensor).\n",
            "  after removing the cwd from sys.path.\n",
            "/usr/local/lib/python3.7/dist-packages/ipykernel_launcher.py:5: UserWarning: To copy construct from a tensor, it is recommended to use sourceTensor.clone().detach() or sourceTensor.clone().detach().requires_grad_(True), rather than torch.tensor(sourceTensor).\n",
            "  \"\"\"\n"
          ]
        }
      ]
    },
    {
      "cell_type": "code",
      "source": [
        "#Training the OR using single layer perceptron\n",
        "or_ppn = Perceptron(num_features=2)\n",
        "\n",
        "x_train_tensor = torch.tensor(x, dtype=torch.float32, device=device)\n",
        "y_train_tensor = torch.tensor(y_or, dtype=torch.float32, device=device)\n",
        "\n",
        "or_ppn.train(x_train_tensor, y_train_tensor, epochs=5)\n",
        "print('Model parameters:')\n",
        "print('  Weights: %s' % or_ppn.weights)\n",
        "print('  Bias: %s' % or_ppn.bias)"
      ],
      "metadata": {
        "colab": {
          "base_uri": "https://localhost:8080/"
        },
        "id": "AoxKQbl-aWaJ",
        "outputId": "682c0a77-c507-48d6-e3af-3dcfe63ea02c"
      },
      "execution_count": 290,
      "outputs": [
        {
          "output_type": "stream",
          "name": "stdout",
          "text": [
            "Model parameters:\n",
            "  Weights: tensor([[1.],\n",
            "        [1.]])\n",
            "  Bias: tensor([0.])\n"
          ]
        },
        {
          "output_type": "stream",
          "name": "stderr",
          "text": [
            "/usr/local/lib/python3.7/dist-packages/ipykernel_launcher.py:4: UserWarning: To copy construct from a tensor, it is recommended to use sourceTensor.clone().detach() or sourceTensor.clone().detach().requires_grad_(True), rather than torch.tensor(sourceTensor).\n",
            "  after removing the cwd from sys.path.\n",
            "/usr/local/lib/python3.7/dist-packages/ipykernel_launcher.py:5: UserWarning: To copy construct from a tensor, it is recommended to use sourceTensor.clone().detach() or sourceTensor.clone().detach().requires_grad_(True), rather than torch.tensor(sourceTensor).\n",
            "  \"\"\"\n"
          ]
        }
      ]
    },
    {
      "cell_type": "code",
      "source": [
        "#Training the NOT using single layer perceptron\n",
        "not_ppn = Perceptron(num_features=1)\n",
        "\n",
        "x_train_tensor = torch.tensor(x_not, dtype=torch.float32, device=device)\n",
        "y_train_tensor = torch.tensor(y_not, dtype=torch.float32, device=device)\n",
        "\n",
        "not_ppn.train(x_train_tensor, y_train_tensor, epochs=5)\n",
        "print('Model parameters:')\n",
        "print('  Weights: %s' % not_ppn.weights)\n",
        "print('  Bias: %s' % not_ppn.bias)"
      ],
      "metadata": {
        "colab": {
          "base_uri": "https://localhost:8080/"
        },
        "id": "gSnB51BTaWdk",
        "outputId": "5979f530-c6b7-455d-e954-f653a1ac692e"
      },
      "execution_count": 291,
      "outputs": [
        {
          "output_type": "stream",
          "name": "stdout",
          "text": [
            "Model parameters:\n",
            "  Weights: tensor([[-1.]])\n",
            "  Bias: tensor([1.])\n"
          ]
        },
        {
          "output_type": "stream",
          "name": "stderr",
          "text": [
            "/usr/local/lib/python3.7/dist-packages/ipykernel_launcher.py:4: UserWarning: To copy construct from a tensor, it is recommended to use sourceTensor.clone().detach() or sourceTensor.clone().detach().requires_grad_(True), rather than torch.tensor(sourceTensor).\n",
            "  after removing the cwd from sys.path.\n",
            "/usr/local/lib/python3.7/dist-packages/ipykernel_launcher.py:5: UserWarning: To copy construct from a tensor, it is recommended to use sourceTensor.clone().detach() or sourceTensor.clone().detach().requires_grad_(True), rather than torch.tensor(sourceTensor).\n",
            "  \"\"\"\n"
          ]
        }
      ]
    },
    {
      "cell_type": "code",
      "source": [
        "def XOR(A,B,C):\n",
        "  # A'B'C + A'BC' + AB'C'+ ABC\n",
        "  # A_tensor = torch.tensor(np.array(A).reshape(-1,1), dtype=torch.float32, device=device)\n",
        "  # B_tensor = torch.tensor(np.array(B).reshape(-1,1), dtype=torch.float32, device=device)\n",
        "  # C_tensor = torch.tensor(np.array(C).reshape(-1,1), dtype=torch.float32, device=device)\n",
        "  \n",
        "  not_A = not_ppn.predict(A)\n",
        "  not_B = not_ppn.predict(B)\n",
        "  not_C = not_ppn.predict(C)\n",
        "  # print(not_A,not_B,not_C)\n",
        "\n",
        "  # A'B'C\n",
        "  not_Axnot_B_input =[[not_A,not_B]] \n",
        "  not_Axnot_B = and_ppn.predict(not_Axnot_B_input)\n",
        "  not_ABxC_input = [[not_Axnot_B,C]]\n",
        "  sum_1 = and_ppn.predict(not_ABxC_input)\n",
        "\n",
        "  # A'BC'\n",
        "  not_AxB_input =[[not_A,B]] \n",
        "  not_AxB = and_ppn.predict(not_AxB_input)\n",
        "  not_ABxnot_C_input = [[not_AxB,not_C]]\n",
        "  sum_2 = and_ppn.predict(not_ABxnot_C_input)\n",
        "\n",
        "  # AB'C'\n",
        "  Axnot_B_input =[[A,not_B]] \n",
        "  Axnot_B = and_ppn.predict(Axnot_B_input)\n",
        "  not_ABxnot_C_input = [[Axnot_B,not_C]]\n",
        "  sum_3 = and_ppn.predict(not_ABxnot_C_input)\n",
        "\n",
        "  # ABC\n",
        "  AxB_input =[[A,B]] \n",
        "  AxB = and_ppn.predict(AxB_input)\n",
        "  ABxC_input = [[AxB,C]]\n",
        "  sum_4 = and_ppn.predict(ABxC_input)\n",
        " \n",
        "  # A'B'C + A'BC'\n",
        "  sum_5_input =[[sum_1,sum_2]] \n",
        "  sum_5 = or_ppn.predict(sum_5_input)\n",
        "\n",
        "  # AB'C' + ABC\n",
        "  sum_6_input =[[sum_3,sum_4]] \n",
        "  sum_6 = or_ppn.predict(sum_6_input)\n",
        "  \n",
        "  # AB'C' + ABC\n",
        "  xor_input =[[sum_5,sum_6]] \n",
        "  xor = or_ppn.predict(xor_input)\n",
        "\n",
        "  return xor\n"
      ],
      "metadata": {
        "id": "meG9nTeAaWgf"
      },
      "execution_count": 292,
      "outputs": []
    },
    {
      "cell_type": "code",
      "source": [
        "# XOR Function XOR(A,B,C) = A'B'C + A'BC' + AB'C' + ABC\n",
        "print(XOR(1,1,1))\n",
        "print(XOR(0,0,0))"
      ],
      "metadata": {
        "colab": {
          "base_uri": "https://localhost:8080/"
        },
        "id": "JTvO_F7caWjW",
        "outputId": "a91c7319-cabf-4435-d3d9-d70beb0bb0f0"
      },
      "execution_count": 293,
      "outputs": [
        {
          "output_type": "stream",
          "name": "stdout",
          "text": [
            "1.0\n",
            "0.0\n"
          ]
        }
      ]
    },
    {
      "cell_type": "code",
      "source": [],
      "metadata": {
        "id": "p4lL3zCVefTM"
      },
      "execution_count": null,
      "outputs": []
    },
    {
      "cell_type": "markdown",
      "source": [
        "**Implementing a MLP for XOR gate of 3 variables A, B, C**\n"
      ],
      "metadata": {
        "id": "gRSrEoX4smLP"
      }
    },
    {
      "cell_type": "code",
      "source": [
        "import torch.nn as nn\n",
        "import torch.nn.functional as F\n",
        "\n",
        "\n",
        "class MLP(nn.Module):\n",
        "  def __init__(self):\n",
        "    super(MLP,self).__init__()\n",
        "    self.fc1 = nn.Linear(3,2)\n",
        "    # self.fc2 = nn.Linear(2,2)\n",
        "    self.fc2 = nn.Linear(2,1)\n",
        "\n",
        "  def forward(self,x):\n",
        "    x = x.view(-1,3)\n",
        "    x = F.sigmoid(self.fc1(x))\n",
        "    x = self.fc2(x)\n",
        "    # x = F.relu(self.fc3(x))\n",
        "    # x = torch.where(x>0.5,self.ones,self.zeros)\n",
        "    return x"
      ],
      "metadata": {
        "id": "x5md6giVefb4"
      },
      "execution_count": 294,
      "outputs": []
    },
    {
      "cell_type": "code",
      "source": [
        "model = MLP()\n",
        "print(model)"
      ],
      "metadata": {
        "colab": {
          "base_uri": "https://localhost:8080/"
        },
        "id": "_o0b0VIIenxc",
        "outputId": "26b991db-51d4-4fe5-870a-dab8c751088e"
      },
      "execution_count": 295,
      "outputs": [
        {
          "output_type": "stream",
          "name": "stdout",
          "text": [
            "MLP(\n",
            "  (fc1): Linear(in_features=3, out_features=2, bias=True)\n",
            "  (fc2): Linear(in_features=2, out_features=1, bias=True)\n",
            ")\n"
          ]
        }
      ]
    },
    {
      "cell_type": "code",
      "source": [
        "# loss function\n",
        "loss_func = nn.MSELoss()"
      ],
      "metadata": {
        "id": "W98qPf71OpRK"
      },
      "execution_count": 296,
      "outputs": []
    },
    {
      "cell_type": "code",
      "source": [
        "# Optimizer\n",
        "optimizer = optim.SGD(model.parameters(),lr=0.02,momentum=0.9)"
      ],
      "metadata": {
        "id": "r1vWobj-OpTl"
      },
      "execution_count": 297,
      "outputs": []
    },
    {
      "cell_type": "code",
      "source": [
        "# preparing model for training\n",
        "model.train() \n",
        "x_train = np.array([[0,0,0],[0,0,1],[0,1,0],[0,1,1],[1,0,0],[1,0,1],[1,1,0],[1,1,1]])\n",
        "y_train = np.array([[0],[1],[1],[0],[1],[0],[0],[1]])\n",
        "x_tensor = torch.tensor(x_train, dtype=torch.float32, device=device)\n",
        "y_tensor = torch.tensor(y_train, dtype=torch.float32, device=device)\n",
        "print(y_tensor.size())"
      ],
      "metadata": {
        "colab": {
          "base_uri": "https://localhost:8080/"
        },
        "id": "bgGtsdl4e_bi",
        "outputId": "055812ed-316c-4a2c-e690-06aed9b0b9f9"
      },
      "execution_count": 298,
      "outputs": [
        {
          "output_type": "stream",
          "name": "stdout",
          "text": [
            "torch.Size([8, 1])\n"
          ]
        }
      ]
    },
    {
      "cell_type": "code",
      "source": [
        "# number of epochs to train the model\n",
        "n_epochs = 1000  # suggest training between 20-50 epochs\n",
        "\n",
        "model.train() # prep model for training\n",
        "x = np.array([[0,0,0],[0,0,1],[0,1,0],[0,1,1],[1,0,0],[1,0,1],[1,1,0],[1,1,1]])\n",
        "y = np.array([[0],[1],[1],[0],[1],[0],[0],[1]])\n",
        "\n",
        "x_tensor = torch.tensor(x, dtype=torch.float32, device=device)\n",
        "y_tensor = torch.tensor(y, dtype=torch.float32, device=device)\n",
        "print(y_tensor.size())\n",
        "\n",
        "\n",
        "for epoch in range(n_epochs):\n",
        "    # monitor training loss\n",
        "    train_loss = 0.0\n",
        "  \n",
        "    for i in range(len(y)):\n",
        "        # clear the gradients of all optimized variables\n",
        "        optimizer.zero_grad()\n",
        "\n",
        "        # forward pass: compute predicted outputs by passing inputs to the model\n",
        "        output = model(x_tensor)\n",
        "        # calculate the loss\n",
        "        loss = loss_func(output, y_tensor)\n",
        "        # backward pass: compute gradient of the loss with respect to model parameters\n",
        "        loss.backward()\n",
        "        # perform a single optimization step (parameter update)\n",
        "        optimizer.step()\n",
        "        # update running training loss\n",
        "        train_loss += loss.item()*x_tensor.size(0)\n",
        "        \n",
        "    # print training statistics \n",
        "    # calculate average loss over an epoch\n",
        "    train_loss = train_loss/len(x_tensor)\n",
        "\n",
        "    print('Epoch: {} \\tTraining Loss: {:.6f}'.format(\n",
        "        epoch+1, \n",
        "        train_loss\n",
        "        ))"
      ],
      "metadata": {
        "colab": {
          "base_uri": "https://localhost:8080/"
        },
        "outputId": "c9ef8eef-14cb-43d2-986d-ebbd2816f4f3",
        "id": "3LHdFzYOkY5V"
      },
      "execution_count": 299,
      "outputs": [
        {
          "output_type": "stream",
          "name": "stdout",
          "text": [
            "torch.Size([8, 1])\n",
            "Epoch: 1 \tTraining Loss: 3.217546\n",
            "Epoch: 2 \tTraining Loss: 2.510424\n",
            "Epoch: 3 \tTraining Loss: 2.104901\n",
            "Epoch: 4 \tTraining Loss: 2.122563\n",
            "Epoch: 5 \tTraining Loss: 2.025978\n",
            "Epoch: 6 \tTraining Loss: 2.016913\n",
            "Epoch: 7 \tTraining Loss: 2.010884\n",
            "Epoch: 8 \tTraining Loss: 2.003611\n",
            "Epoch: 9 \tTraining Loss: 2.003897\n",
            "Epoch: 10 \tTraining Loss: 2.002541\n",
            "Epoch: 11 \tTraining Loss: 2.002233\n",
            "Epoch: 12 \tTraining Loss: 2.002120\n",
            "Epoch: 13 \tTraining Loss: 2.001939\n",
            "Epoch: 14 \tTraining Loss: 2.001881\n",
            "Epoch: 15 \tTraining Loss: 2.001805\n",
            "Epoch: 16 \tTraining Loss: 2.001742\n",
            "Epoch: 17 \tTraining Loss: 2.001687\n",
            "Epoch: 18 \tTraining Loss: 2.001632\n",
            "Epoch: 19 \tTraining Loss: 2.001581\n",
            "Epoch: 20 \tTraining Loss: 2.001532\n",
            "Epoch: 21 \tTraining Loss: 2.001485\n",
            "Epoch: 22 \tTraining Loss: 2.001440\n",
            "Epoch: 23 \tTraining Loss: 2.001396\n",
            "Epoch: 24 \tTraining Loss: 2.001355\n",
            "Epoch: 25 \tTraining Loss: 2.001314\n",
            "Epoch: 26 \tTraining Loss: 2.001276\n",
            "Epoch: 27 \tTraining Loss: 2.001238\n",
            "Epoch: 28 \tTraining Loss: 2.001202\n",
            "Epoch: 29 \tTraining Loss: 2.001167\n",
            "Epoch: 30 \tTraining Loss: 2.001134\n",
            "Epoch: 31 \tTraining Loss: 2.001101\n",
            "Epoch: 32 \tTraining Loss: 2.001070\n",
            "Epoch: 33 \tTraining Loss: 2.001040\n",
            "Epoch: 34 \tTraining Loss: 2.001010\n",
            "Epoch: 35 \tTraining Loss: 2.000982\n",
            "Epoch: 36 \tTraining Loss: 2.000955\n",
            "Epoch: 37 \tTraining Loss: 2.000928\n",
            "Epoch: 38 \tTraining Loss: 2.000903\n",
            "Epoch: 39 \tTraining Loss: 2.000878\n",
            "Epoch: 40 \tTraining Loss: 2.000854\n",
            "Epoch: 41 \tTraining Loss: 2.000831\n",
            "Epoch: 42 \tTraining Loss: 2.000809\n",
            "Epoch: 43 \tTraining Loss: 2.000787\n",
            "Epoch: 44 \tTraining Loss: 2.000766\n",
            "Epoch: 45 \tTraining Loss: 2.000746\n",
            "Epoch: 46 \tTraining Loss: 2.000726\n",
            "Epoch: 47 \tTraining Loss: 2.000707\n",
            "Epoch: 48 \tTraining Loss: 2.000688\n",
            "Epoch: 49 \tTraining Loss: 2.000670\n",
            "Epoch: 50 \tTraining Loss: 2.000653\n",
            "Epoch: 51 \tTraining Loss: 2.000636\n",
            "Epoch: 52 \tTraining Loss: 2.000620\n",
            "Epoch: 53 \tTraining Loss: 2.000604\n",
            "Epoch: 54 \tTraining Loss: 2.000588\n",
            "Epoch: 55 \tTraining Loss: 2.000573\n",
            "Epoch: 56 \tTraining Loss: 2.000559\n",
            "Epoch: 57 \tTraining Loss: 2.000544\n"
          ]
        },
        {
          "output_type": "stream",
          "name": "stderr",
          "text": [
            "/usr/local/lib/python3.7/dist-packages/torch/nn/functional.py:1960: UserWarning: nn.functional.sigmoid is deprecated. Use torch.sigmoid instead.\n",
            "  warnings.warn(\"nn.functional.sigmoid is deprecated. Use torch.sigmoid instead.\")\n"
          ]
        },
        {
          "output_type": "stream",
          "name": "stdout",
          "text": [
            "Epoch: 58 \tTraining Loss: 2.000531\n",
            "Epoch: 59 \tTraining Loss: 2.000517\n",
            "Epoch: 60 \tTraining Loss: 2.000504\n",
            "Epoch: 61 \tTraining Loss: 2.000492\n",
            "Epoch: 62 \tTraining Loss: 2.000479\n",
            "Epoch: 63 \tTraining Loss: 2.000467\n",
            "Epoch: 64 \tTraining Loss: 2.000456\n",
            "Epoch: 65 \tTraining Loss: 2.000445\n",
            "Epoch: 66 \tTraining Loss: 2.000434\n",
            "Epoch: 67 \tTraining Loss: 2.000423\n",
            "Epoch: 68 \tTraining Loss: 2.000412\n",
            "Epoch: 69 \tTraining Loss: 2.000402\n",
            "Epoch: 70 \tTraining Loss: 2.000392\n",
            "Epoch: 71 \tTraining Loss: 2.000383\n",
            "Epoch: 72 \tTraining Loss: 2.000374\n",
            "Epoch: 73 \tTraining Loss: 2.000365\n",
            "Epoch: 74 \tTraining Loss: 2.000356\n",
            "Epoch: 75 \tTraining Loss: 2.000347\n",
            "Epoch: 76 \tTraining Loss: 2.000339\n",
            "Epoch: 77 \tTraining Loss: 2.000331\n",
            "Epoch: 78 \tTraining Loss: 2.000323\n",
            "Epoch: 79 \tTraining Loss: 2.000315\n",
            "Epoch: 80 \tTraining Loss: 2.000307\n",
            "Epoch: 81 \tTraining Loss: 2.000300\n",
            "Epoch: 82 \tTraining Loss: 2.000293\n",
            "Epoch: 83 \tTraining Loss: 2.000286\n",
            "Epoch: 84 \tTraining Loss: 2.000279\n",
            "Epoch: 85 \tTraining Loss: 2.000273\n",
            "Epoch: 86 \tTraining Loss: 2.000266\n",
            "Epoch: 87 \tTraining Loss: 2.000260\n",
            "Epoch: 88 \tTraining Loss: 2.000254\n",
            "Epoch: 89 \tTraining Loss: 2.000248\n",
            "Epoch: 90 \tTraining Loss: 2.000242\n",
            "Epoch: 91 \tTraining Loss: 2.000236\n",
            "Epoch: 92 \tTraining Loss: 2.000231\n",
            "Epoch: 93 \tTraining Loss: 2.000225\n",
            "Epoch: 94 \tTraining Loss: 2.000220\n",
            "Epoch: 95 \tTraining Loss: 2.000215\n",
            "Epoch: 96 \tTraining Loss: 2.000210\n",
            "Epoch: 97 \tTraining Loss: 2.000205\n",
            "Epoch: 98 \tTraining Loss: 2.000200\n",
            "Epoch: 99 \tTraining Loss: 2.000196\n",
            "Epoch: 100 \tTraining Loss: 2.000191\n",
            "Epoch: 101 \tTraining Loss: 2.000187\n",
            "Epoch: 102 \tTraining Loss: 2.000182\n",
            "Epoch: 103 \tTraining Loss: 2.000178\n",
            "Epoch: 104 \tTraining Loss: 2.000174\n",
            "Epoch: 105 \tTraining Loss: 2.000170\n",
            "Epoch: 106 \tTraining Loss: 2.000166\n",
            "Epoch: 107 \tTraining Loss: 2.000162\n",
            "Epoch: 108 \tTraining Loss: 2.000159\n",
            "Epoch: 109 \tTraining Loss: 2.000155\n",
            "Epoch: 110 \tTraining Loss: 2.000151\n",
            "Epoch: 111 \tTraining Loss: 2.000148\n",
            "Epoch: 112 \tTraining Loss: 2.000144\n",
            "Epoch: 113 \tTraining Loss: 2.000141\n",
            "Epoch: 114 \tTraining Loss: 2.000138\n",
            "Epoch: 115 \tTraining Loss: 2.000135\n",
            "Epoch: 116 \tTraining Loss: 2.000132\n",
            "Epoch: 117 \tTraining Loss: 2.000129\n",
            "Epoch: 118 \tTraining Loss: 2.000126\n",
            "Epoch: 119 \tTraining Loss: 2.000123\n",
            "Epoch: 120 \tTraining Loss: 2.000120\n",
            "Epoch: 121 \tTraining Loss: 2.000117\n",
            "Epoch: 122 \tTraining Loss: 2.000115\n",
            "Epoch: 123 \tTraining Loss: 2.000112\n",
            "Epoch: 124 \tTraining Loss: 2.000110\n",
            "Epoch: 125 \tTraining Loss: 2.000107\n",
            "Epoch: 126 \tTraining Loss: 2.000105\n",
            "Epoch: 127 \tTraining Loss: 2.000102\n",
            "Epoch: 128 \tTraining Loss: 2.000100\n",
            "Epoch: 129 \tTraining Loss: 2.000098\n",
            "Epoch: 130 \tTraining Loss: 2.000095\n",
            "Epoch: 131 \tTraining Loss: 2.000093\n",
            "Epoch: 132 \tTraining Loss: 2.000091\n",
            "Epoch: 133 \tTraining Loss: 2.000089\n",
            "Epoch: 134 \tTraining Loss: 2.000087\n",
            "Epoch: 135 \tTraining Loss: 2.000085\n",
            "Epoch: 136 \tTraining Loss: 2.000083\n",
            "Epoch: 137 \tTraining Loss: 2.000081\n",
            "Epoch: 138 \tTraining Loss: 2.000079\n",
            "Epoch: 139 \tTraining Loss: 2.000078\n",
            "Epoch: 140 \tTraining Loss: 2.000076\n",
            "Epoch: 141 \tTraining Loss: 2.000074\n",
            "Epoch: 142 \tTraining Loss: 2.000072\n",
            "Epoch: 143 \tTraining Loss: 2.000071\n",
            "Epoch: 144 \tTraining Loss: 2.000069\n",
            "Epoch: 145 \tTraining Loss: 2.000068\n",
            "Epoch: 146 \tTraining Loss: 2.000066\n",
            "Epoch: 147 \tTraining Loss: 2.000065\n",
            "Epoch: 148 \tTraining Loss: 2.000063\n",
            "Epoch: 149 \tTraining Loss: 2.000062\n",
            "Epoch: 150 \tTraining Loss: 2.000060\n",
            "Epoch: 151 \tTraining Loss: 2.000059\n",
            "Epoch: 152 \tTraining Loss: 2.000058\n",
            "Epoch: 153 \tTraining Loss: 2.000056\n",
            "Epoch: 154 \tTraining Loss: 2.000055\n",
            "Epoch: 155 \tTraining Loss: 2.000054\n",
            "Epoch: 156 \tTraining Loss: 2.000053\n",
            "Epoch: 157 \tTraining Loss: 2.000051\n",
            "Epoch: 158 \tTraining Loss: 2.000050\n",
            "Epoch: 159 \tTraining Loss: 2.000049\n",
            "Epoch: 160 \tTraining Loss: 2.000048\n",
            "Epoch: 161 \tTraining Loss: 2.000047\n",
            "Epoch: 162 \tTraining Loss: 2.000046\n",
            "Epoch: 163 \tTraining Loss: 2.000045\n",
            "Epoch: 164 \tTraining Loss: 2.000044\n",
            "Epoch: 165 \tTraining Loss: 2.000043\n",
            "Epoch: 166 \tTraining Loss: 2.000042\n",
            "Epoch: 167 \tTraining Loss: 2.000041\n",
            "Epoch: 168 \tTraining Loss: 2.000040\n",
            "Epoch: 169 \tTraining Loss: 2.000039\n",
            "Epoch: 170 \tTraining Loss: 2.000038\n",
            "Epoch: 171 \tTraining Loss: 2.000037\n",
            "Epoch: 172 \tTraining Loss: 2.000036\n",
            "Epoch: 173 \tTraining Loss: 2.000036\n",
            "Epoch: 174 \tTraining Loss: 2.000035\n",
            "Epoch: 175 \tTraining Loss: 2.000034\n",
            "Epoch: 176 \tTraining Loss: 2.000033\n",
            "Epoch: 177 \tTraining Loss: 2.000032\n",
            "Epoch: 178 \tTraining Loss: 2.000032\n",
            "Epoch: 179 \tTraining Loss: 2.000031\n",
            "Epoch: 180 \tTraining Loss: 2.000030\n",
            "Epoch: 181 \tTraining Loss: 2.000030\n",
            "Epoch: 182 \tTraining Loss: 2.000029\n",
            "Epoch: 183 \tTraining Loss: 2.000028\n",
            "Epoch: 184 \tTraining Loss: 2.000028\n",
            "Epoch: 185 \tTraining Loss: 2.000027\n",
            "Epoch: 186 \tTraining Loss: 2.000026\n",
            "Epoch: 187 \tTraining Loss: 2.000026\n",
            "Epoch: 188 \tTraining Loss: 2.000025\n",
            "Epoch: 189 \tTraining Loss: 2.000025\n",
            "Epoch: 190 \tTraining Loss: 2.000024\n",
            "Epoch: 191 \tTraining Loss: 2.000023\n",
            "Epoch: 192 \tTraining Loss: 2.000023\n",
            "Epoch: 193 \tTraining Loss: 2.000022\n",
            "Epoch: 194 \tTraining Loss: 2.000022\n",
            "Epoch: 195 \tTraining Loss: 2.000021\n",
            "Epoch: 196 \tTraining Loss: 2.000021\n",
            "Epoch: 197 \tTraining Loss: 2.000020\n",
            "Epoch: 198 \tTraining Loss: 2.000020\n",
            "Epoch: 199 \tTraining Loss: 2.000019\n",
            "Epoch: 200 \tTraining Loss: 2.000019\n",
            "Epoch: 201 \tTraining Loss: 2.000019\n",
            "Epoch: 202 \tTraining Loss: 2.000018\n",
            "Epoch: 203 \tTraining Loss: 2.000018\n",
            "Epoch: 204 \tTraining Loss: 2.000017\n",
            "Epoch: 205 \tTraining Loss: 2.000017\n",
            "Epoch: 206 \tTraining Loss: 2.000017\n",
            "Epoch: 207 \tTraining Loss: 2.000016\n",
            "Epoch: 208 \tTraining Loss: 2.000016\n",
            "Epoch: 209 \tTraining Loss: 2.000015\n",
            "Epoch: 210 \tTraining Loss: 2.000015\n",
            "Epoch: 211 \tTraining Loss: 2.000015\n",
            "Epoch: 212 \tTraining Loss: 2.000014\n",
            "Epoch: 213 \tTraining Loss: 2.000014\n",
            "Epoch: 214 \tTraining Loss: 2.000014\n",
            "Epoch: 215 \tTraining Loss: 2.000013\n",
            "Epoch: 216 \tTraining Loss: 2.000013\n",
            "Epoch: 217 \tTraining Loss: 2.000013\n",
            "Epoch: 218 \tTraining Loss: 2.000012\n",
            "Epoch: 219 \tTraining Loss: 2.000012\n",
            "Epoch: 220 \tTraining Loss: 2.000012\n",
            "Epoch: 221 \tTraining Loss: 2.000011\n",
            "Epoch: 222 \tTraining Loss: 2.000011\n",
            "Epoch: 223 \tTraining Loss: 2.000011\n",
            "Epoch: 224 \tTraining Loss: 2.000011\n",
            "Epoch: 225 \tTraining Loss: 2.000011\n",
            "Epoch: 226 \tTraining Loss: 2.000010\n",
            "Epoch: 227 \tTraining Loss: 2.000010\n",
            "Epoch: 228 \tTraining Loss: 2.000010\n",
            "Epoch: 229 \tTraining Loss: 2.000009\n",
            "Epoch: 230 \tTraining Loss: 2.000009\n",
            "Epoch: 231 \tTraining Loss: 2.000009\n",
            "Epoch: 232 \tTraining Loss: 2.000009\n",
            "Epoch: 233 \tTraining Loss: 2.000009\n",
            "Epoch: 234 \tTraining Loss: 2.000008\n",
            "Epoch: 235 \tTraining Loss: 2.000008\n",
            "Epoch: 236 \tTraining Loss: 2.000008\n",
            "Epoch: 237 \tTraining Loss: 2.000008\n",
            "Epoch: 238 \tTraining Loss: 2.000008\n",
            "Epoch: 239 \tTraining Loss: 2.000007\n",
            "Epoch: 240 \tTraining Loss: 2.000007\n",
            "Epoch: 241 \tTraining Loss: 2.000007\n",
            "Epoch: 242 \tTraining Loss: 2.000007\n",
            "Epoch: 243 \tTraining Loss: 2.000007\n",
            "Epoch: 244 \tTraining Loss: 2.000006\n",
            "Epoch: 245 \tTraining Loss: 2.000006\n",
            "Epoch: 246 \tTraining Loss: 2.000006\n",
            "Epoch: 247 \tTraining Loss: 2.000006\n",
            "Epoch: 248 \tTraining Loss: 2.000006\n",
            "Epoch: 249 \tTraining Loss: 2.000006\n",
            "Epoch: 250 \tTraining Loss: 2.000005\n",
            "Epoch: 251 \tTraining Loss: 2.000005\n",
            "Epoch: 252 \tTraining Loss: 2.000005\n",
            "Epoch: 253 \tTraining Loss: 2.000005\n",
            "Epoch: 254 \tTraining Loss: 2.000005\n",
            "Epoch: 255 \tTraining Loss: 2.000005\n",
            "Epoch: 256 \tTraining Loss: 2.000005\n",
            "Epoch: 257 \tTraining Loss: 2.000004\n",
            "Epoch: 258 \tTraining Loss: 2.000004\n",
            "Epoch: 259 \tTraining Loss: 2.000004\n",
            "Epoch: 260 \tTraining Loss: 2.000004\n",
            "Epoch: 261 \tTraining Loss: 2.000004\n",
            "Epoch: 262 \tTraining Loss: 2.000004\n",
            "Epoch: 263 \tTraining Loss: 2.000004\n",
            "Epoch: 264 \tTraining Loss: 2.000004\n",
            "Epoch: 265 \tTraining Loss: 2.000004\n",
            "Epoch: 266 \tTraining Loss: 2.000003\n",
            "Epoch: 267 \tTraining Loss: 2.000003\n",
            "Epoch: 268 \tTraining Loss: 2.000003\n",
            "Epoch: 269 \tTraining Loss: 2.000003\n",
            "Epoch: 270 \tTraining Loss: 2.000003\n",
            "Epoch: 271 \tTraining Loss: 2.000003\n",
            "Epoch: 272 \tTraining Loss: 2.000003\n",
            "Epoch: 273 \tTraining Loss: 2.000003\n",
            "Epoch: 274 \tTraining Loss: 2.000003\n",
            "Epoch: 275 \tTraining Loss: 2.000003\n",
            "Epoch: 276 \tTraining Loss: 2.000002\n",
            "Epoch: 277 \tTraining Loss: 2.000002\n",
            "Epoch: 278 \tTraining Loss: 2.000002\n",
            "Epoch: 279 \tTraining Loss: 2.000002\n",
            "Epoch: 280 \tTraining Loss: 2.000002\n",
            "Epoch: 281 \tTraining Loss: 2.000002\n",
            "Epoch: 282 \tTraining Loss: 2.000002\n",
            "Epoch: 283 \tTraining Loss: 2.000002\n",
            "Epoch: 284 \tTraining Loss: 2.000002\n",
            "Epoch: 285 \tTraining Loss: 2.000002\n",
            "Epoch: 286 \tTraining Loss: 2.000002\n",
            "Epoch: 287 \tTraining Loss: 2.000002\n",
            "Epoch: 288 \tTraining Loss: 2.000002\n",
            "Epoch: 289 \tTraining Loss: 2.000001\n",
            "Epoch: 290 \tTraining Loss: 2.000001\n",
            "Epoch: 291 \tTraining Loss: 2.000001\n",
            "Epoch: 292 \tTraining Loss: 2.000001\n",
            "Epoch: 293 \tTraining Loss: 2.000001\n",
            "Epoch: 294 \tTraining Loss: 2.000001\n",
            "Epoch: 295 \tTraining Loss: 2.000001\n",
            "Epoch: 296 \tTraining Loss: 2.000001\n",
            "Epoch: 297 \tTraining Loss: 2.000001\n",
            "Epoch: 298 \tTraining Loss: 2.000001\n",
            "Epoch: 299 \tTraining Loss: 2.000001\n",
            "Epoch: 300 \tTraining Loss: 2.000001\n",
            "Epoch: 301 \tTraining Loss: 2.000001\n",
            "Epoch: 302 \tTraining Loss: 2.000001\n",
            "Epoch: 303 \tTraining Loss: 2.000001\n",
            "Epoch: 304 \tTraining Loss: 2.000001\n",
            "Epoch: 305 \tTraining Loss: 2.000001\n",
            "Epoch: 306 \tTraining Loss: 2.000001\n",
            "Epoch: 307 \tTraining Loss: 2.000001\n",
            "Epoch: 308 \tTraining Loss: 2.000001\n",
            "Epoch: 309 \tTraining Loss: 2.000001\n",
            "Epoch: 310 \tTraining Loss: 2.000001\n",
            "Epoch: 311 \tTraining Loss: 2.000000\n",
            "Epoch: 312 \tTraining Loss: 2.000000\n",
            "Epoch: 313 \tTraining Loss: 2.000000\n",
            "Epoch: 314 \tTraining Loss: 2.000000\n",
            "Epoch: 315 \tTraining Loss: 2.000000\n",
            "Epoch: 316 \tTraining Loss: 2.000000\n",
            "Epoch: 317 \tTraining Loss: 2.000000\n",
            "Epoch: 318 \tTraining Loss: 2.000000\n",
            "Epoch: 319 \tTraining Loss: 2.000000\n",
            "Epoch: 320 \tTraining Loss: 2.000000\n",
            "Epoch: 321 \tTraining Loss: 2.000000\n",
            "Epoch: 322 \tTraining Loss: 2.000000\n",
            "Epoch: 323 \tTraining Loss: 2.000000\n",
            "Epoch: 324 \tTraining Loss: 2.000000\n",
            "Epoch: 325 \tTraining Loss: 2.000000\n",
            "Epoch: 326 \tTraining Loss: 2.000000\n",
            "Epoch: 327 \tTraining Loss: 2.000000\n",
            "Epoch: 328 \tTraining Loss: 2.000000\n",
            "Epoch: 329 \tTraining Loss: 2.000000\n",
            "Epoch: 330 \tTraining Loss: 2.000000\n",
            "Epoch: 331 \tTraining Loss: 2.000000\n",
            "Epoch: 332 \tTraining Loss: 2.000000\n",
            "Epoch: 333 \tTraining Loss: 2.000000\n",
            "Epoch: 334 \tTraining Loss: 2.000000\n",
            "Epoch: 335 \tTraining Loss: 2.000000\n",
            "Epoch: 336 \tTraining Loss: 2.000000\n",
            "Epoch: 337 \tTraining Loss: 2.000000\n",
            "Epoch: 338 \tTraining Loss: 2.000000\n",
            "Epoch: 339 \tTraining Loss: 2.000000\n",
            "Epoch: 340 \tTraining Loss: 2.000000\n",
            "Epoch: 341 \tTraining Loss: 2.000000\n",
            "Epoch: 342 \tTraining Loss: 2.000000\n",
            "Epoch: 343 \tTraining Loss: 1.999999\n",
            "Epoch: 344 \tTraining Loss: 1.999999\n",
            "Epoch: 345 \tTraining Loss: 2.000000\n",
            "Epoch: 346 \tTraining Loss: 1.999999\n",
            "Epoch: 347 \tTraining Loss: 1.999999\n",
            "Epoch: 348 \tTraining Loss: 1.999999\n",
            "Epoch: 349 \tTraining Loss: 1.999999\n",
            "Epoch: 350 \tTraining Loss: 1.999999\n",
            "Epoch: 351 \tTraining Loss: 1.999999\n",
            "Epoch: 352 \tTraining Loss: 1.999999\n",
            "Epoch: 353 \tTraining Loss: 1.999999\n",
            "Epoch: 354 \tTraining Loss: 1.999999\n",
            "Epoch: 355 \tTraining Loss: 1.999999\n",
            "Epoch: 356 \tTraining Loss: 1.999999\n",
            "Epoch: 357 \tTraining Loss: 1.999999\n",
            "Epoch: 358 \tTraining Loss: 1.999999\n",
            "Epoch: 359 \tTraining Loss: 1.999999\n",
            "Epoch: 360 \tTraining Loss: 1.999999\n",
            "Epoch: 361 \tTraining Loss: 1.999999\n",
            "Epoch: 362 \tTraining Loss: 1.999999\n",
            "Epoch: 363 \tTraining Loss: 1.999999\n",
            "Epoch: 364 \tTraining Loss: 1.999999\n",
            "Epoch: 365 \tTraining Loss: 1.999999\n",
            "Epoch: 366 \tTraining Loss: 1.999999\n",
            "Epoch: 367 \tTraining Loss: 1.999999\n",
            "Epoch: 368 \tTraining Loss: 1.999999\n",
            "Epoch: 369 \tTraining Loss: 1.999999\n",
            "Epoch: 370 \tTraining Loss: 1.999999\n",
            "Epoch: 371 \tTraining Loss: 1.999999\n",
            "Epoch: 372 \tTraining Loss: 1.999999\n",
            "Epoch: 373 \tTraining Loss: 1.999999\n",
            "Epoch: 374 \tTraining Loss: 1.999999\n",
            "Epoch: 375 \tTraining Loss: 1.999999\n",
            "Epoch: 376 \tTraining Loss: 1.999999\n",
            "Epoch: 377 \tTraining Loss: 1.999999\n",
            "Epoch: 378 \tTraining Loss: 1.999999\n",
            "Epoch: 379 \tTraining Loss: 1.999999\n",
            "Epoch: 380 \tTraining Loss: 1.999999\n",
            "Epoch: 381 \tTraining Loss: 1.999999\n",
            "Epoch: 382 \tTraining Loss: 1.999999\n",
            "Epoch: 383 \tTraining Loss: 1.999999\n",
            "Epoch: 384 \tTraining Loss: 1.999999\n",
            "Epoch: 385 \tTraining Loss: 1.999999\n",
            "Epoch: 386 \tTraining Loss: 1.999999\n",
            "Epoch: 387 \tTraining Loss: 1.999999\n",
            "Epoch: 388 \tTraining Loss: 1.999999\n",
            "Epoch: 389 \tTraining Loss: 1.999999\n",
            "Epoch: 390 \tTraining Loss: 1.999999\n",
            "Epoch: 391 \tTraining Loss: 1.999999\n",
            "Epoch: 392 \tTraining Loss: 1.999999\n",
            "Epoch: 393 \tTraining Loss: 1.999999\n",
            "Epoch: 394 \tTraining Loss: 1.999999\n",
            "Epoch: 395 \tTraining Loss: 1.999999\n",
            "Epoch: 396 \tTraining Loss: 1.999999\n",
            "Epoch: 397 \tTraining Loss: 1.999999\n",
            "Epoch: 398 \tTraining Loss: 1.999999\n",
            "Epoch: 399 \tTraining Loss: 1.999999\n",
            "Epoch: 400 \tTraining Loss: 1.999999\n",
            "Epoch: 401 \tTraining Loss: 1.999999\n",
            "Epoch: 402 \tTraining Loss: 1.999999\n",
            "Epoch: 403 \tTraining Loss: 1.999999\n",
            "Epoch: 404 \tTraining Loss: 1.999999\n",
            "Epoch: 405 \tTraining Loss: 1.999999\n",
            "Epoch: 406 \tTraining Loss: 1.999999\n",
            "Epoch: 407 \tTraining Loss: 1.999999\n",
            "Epoch: 408 \tTraining Loss: 1.999999\n",
            "Epoch: 409 \tTraining Loss: 1.999999\n",
            "Epoch: 410 \tTraining Loss: 1.999999\n",
            "Epoch: 411 \tTraining Loss: 1.999999\n",
            "Epoch: 412 \tTraining Loss: 1.999999\n",
            "Epoch: 413 \tTraining Loss: 1.999999\n",
            "Epoch: 414 \tTraining Loss: 1.999999\n",
            "Epoch: 415 \tTraining Loss: 1.999999\n",
            "Epoch: 416 \tTraining Loss: 1.999999\n",
            "Epoch: 417 \tTraining Loss: 1.999999\n",
            "Epoch: 418 \tTraining Loss: 1.999999\n",
            "Epoch: 419 \tTraining Loss: 1.999999\n",
            "Epoch: 420 \tTraining Loss: 1.999999\n",
            "Epoch: 421 \tTraining Loss: 1.999999\n",
            "Epoch: 422 \tTraining Loss: 1.999999\n",
            "Epoch: 423 \tTraining Loss: 1.999999\n",
            "Epoch: 424 \tTraining Loss: 1.999999\n",
            "Epoch: 425 \tTraining Loss: 1.999999\n",
            "Epoch: 426 \tTraining Loss: 1.999999\n",
            "Epoch: 427 \tTraining Loss: 1.999999\n",
            "Epoch: 428 \tTraining Loss: 1.999999\n",
            "Epoch: 429 \tTraining Loss: 1.999999\n",
            "Epoch: 430 \tTraining Loss: 1.999999\n",
            "Epoch: 431 \tTraining Loss: 1.999999\n",
            "Epoch: 432 \tTraining Loss: 1.999999\n",
            "Epoch: 433 \tTraining Loss: 1.999999\n",
            "Epoch: 434 \tTraining Loss: 1.999999\n",
            "Epoch: 435 \tTraining Loss: 1.999999\n",
            "Epoch: 436 \tTraining Loss: 1.999999\n",
            "Epoch: 437 \tTraining Loss: 1.999999\n",
            "Epoch: 438 \tTraining Loss: 1.999999\n",
            "Epoch: 439 \tTraining Loss: 1.999999\n",
            "Epoch: 440 \tTraining Loss: 1.999999\n",
            "Epoch: 441 \tTraining Loss: 1.999999\n",
            "Epoch: 442 \tTraining Loss: 1.999998\n",
            "Epoch: 443 \tTraining Loss: 1.999999\n",
            "Epoch: 444 \tTraining Loss: 1.999999\n",
            "Epoch: 445 \tTraining Loss: 1.999999\n",
            "Epoch: 446 \tTraining Loss: 1.999999\n",
            "Epoch: 447 \tTraining Loss: 1.999999\n",
            "Epoch: 448 \tTraining Loss: 1.999999\n",
            "Epoch: 449 \tTraining Loss: 1.999999\n",
            "Epoch: 450 \tTraining Loss: 1.999999\n",
            "Epoch: 451 \tTraining Loss: 1.999999\n",
            "Epoch: 452 \tTraining Loss: 1.999999\n",
            "Epoch: 453 \tTraining Loss: 1.999999\n",
            "Epoch: 454 \tTraining Loss: 1.999998\n",
            "Epoch: 455 \tTraining Loss: 1.999999\n",
            "Epoch: 456 \tTraining Loss: 1.999999\n",
            "Epoch: 457 \tTraining Loss: 1.999998\n",
            "Epoch: 458 \tTraining Loss: 1.999998\n",
            "Epoch: 459 \tTraining Loss: 1.999998\n",
            "Epoch: 460 \tTraining Loss: 1.999999\n",
            "Epoch: 461 \tTraining Loss: 1.999998\n",
            "Epoch: 462 \tTraining Loss: 1.999998\n",
            "Epoch: 463 \tTraining Loss: 1.999998\n",
            "Epoch: 464 \tTraining Loss: 1.999998\n",
            "Epoch: 465 \tTraining Loss: 1.999999\n",
            "Epoch: 466 \tTraining Loss: 1.999999\n",
            "Epoch: 467 \tTraining Loss: 1.999998\n",
            "Epoch: 468 \tTraining Loss: 1.999998\n",
            "Epoch: 469 \tTraining Loss: 1.999998\n",
            "Epoch: 470 \tTraining Loss: 1.999999\n",
            "Epoch: 471 \tTraining Loss: 1.999999\n",
            "Epoch: 472 \tTraining Loss: 1.999998\n",
            "Epoch: 473 \tTraining Loss: 1.999998\n",
            "Epoch: 474 \tTraining Loss: 1.999999\n",
            "Epoch: 475 \tTraining Loss: 1.999998\n",
            "Epoch: 476 \tTraining Loss: 1.999998\n",
            "Epoch: 477 \tTraining Loss: 1.999998\n",
            "Epoch: 478 \tTraining Loss: 1.999998\n",
            "Epoch: 479 \tTraining Loss: 1.999998\n",
            "Epoch: 480 \tTraining Loss: 1.999998\n",
            "Epoch: 481 \tTraining Loss: 1.999998\n",
            "Epoch: 482 \tTraining Loss: 1.999998\n",
            "Epoch: 483 \tTraining Loss: 1.999998\n",
            "Epoch: 484 \tTraining Loss: 1.999998\n",
            "Epoch: 485 \tTraining Loss: 1.999998\n",
            "Epoch: 486 \tTraining Loss: 1.999998\n",
            "Epoch: 487 \tTraining Loss: 1.999998\n",
            "Epoch: 488 \tTraining Loss: 1.999998\n",
            "Epoch: 489 \tTraining Loss: 1.999998\n",
            "Epoch: 490 \tTraining Loss: 1.999998\n",
            "Epoch: 491 \tTraining Loss: 1.999998\n",
            "Epoch: 492 \tTraining Loss: 1.999998\n",
            "Epoch: 493 \tTraining Loss: 1.999998\n",
            "Epoch: 494 \tTraining Loss: 1.999998\n",
            "Epoch: 495 \tTraining Loss: 1.999998\n",
            "Epoch: 496 \tTraining Loss: 1.999998\n",
            "Epoch: 497 \tTraining Loss: 1.999998\n",
            "Epoch: 498 \tTraining Loss: 1.999998\n",
            "Epoch: 499 \tTraining Loss: 1.999998\n",
            "Epoch: 500 \tTraining Loss: 1.999998\n",
            "Epoch: 501 \tTraining Loss: 1.999998\n",
            "Epoch: 502 \tTraining Loss: 1.999998\n",
            "Epoch: 503 \tTraining Loss: 1.999998\n",
            "Epoch: 504 \tTraining Loss: 1.999998\n",
            "Epoch: 505 \tTraining Loss: 1.999998\n",
            "Epoch: 506 \tTraining Loss: 1.999998\n",
            "Epoch: 507 \tTraining Loss: 1.999998\n",
            "Epoch: 508 \tTraining Loss: 1.999998\n",
            "Epoch: 509 \tTraining Loss: 1.999998\n",
            "Epoch: 510 \tTraining Loss: 1.999998\n",
            "Epoch: 511 \tTraining Loss: 1.999998\n",
            "Epoch: 512 \tTraining Loss: 1.999998\n",
            "Epoch: 513 \tTraining Loss: 1.999998\n",
            "Epoch: 514 \tTraining Loss: 1.999998\n",
            "Epoch: 515 \tTraining Loss: 1.999998\n",
            "Epoch: 516 \tTraining Loss: 1.999998\n",
            "Epoch: 517 \tTraining Loss: 1.999998\n",
            "Epoch: 518 \tTraining Loss: 1.999998\n",
            "Epoch: 519 \tTraining Loss: 1.999998\n",
            "Epoch: 520 \tTraining Loss: 1.999998\n",
            "Epoch: 521 \tTraining Loss: 1.999998\n",
            "Epoch: 522 \tTraining Loss: 1.999998\n",
            "Epoch: 523 \tTraining Loss: 1.999998\n",
            "Epoch: 524 \tTraining Loss: 1.999998\n",
            "Epoch: 525 \tTraining Loss: 1.999998\n",
            "Epoch: 526 \tTraining Loss: 1.999998\n",
            "Epoch: 527 \tTraining Loss: 1.999998\n",
            "Epoch: 528 \tTraining Loss: 1.999998\n",
            "Epoch: 529 \tTraining Loss: 1.999998\n",
            "Epoch: 530 \tTraining Loss: 1.999998\n",
            "Epoch: 531 \tTraining Loss: 1.999998\n",
            "Epoch: 532 \tTraining Loss: 1.999998\n",
            "Epoch: 533 \tTraining Loss: 1.999998\n",
            "Epoch: 534 \tTraining Loss: 1.999998\n",
            "Epoch: 535 \tTraining Loss: 1.999998\n",
            "Epoch: 536 \tTraining Loss: 1.999998\n",
            "Epoch: 537 \tTraining Loss: 1.999998\n",
            "Epoch: 538 \tTraining Loss: 1.999998\n",
            "Epoch: 539 \tTraining Loss: 1.999998\n",
            "Epoch: 540 \tTraining Loss: 1.999998\n",
            "Epoch: 541 \tTraining Loss: 1.999998\n",
            "Epoch: 542 \tTraining Loss: 1.999998\n",
            "Epoch: 543 \tTraining Loss: 1.999998\n",
            "Epoch: 544 \tTraining Loss: 1.999998\n",
            "Epoch: 545 \tTraining Loss: 1.999998\n",
            "Epoch: 546 \tTraining Loss: 1.999998\n",
            "Epoch: 547 \tTraining Loss: 1.999998\n",
            "Epoch: 548 \tTraining Loss: 1.999998\n",
            "Epoch: 549 \tTraining Loss: 1.999998\n",
            "Epoch: 550 \tTraining Loss: 1.999998\n",
            "Epoch: 551 \tTraining Loss: 1.999998\n",
            "Epoch: 552 \tTraining Loss: 1.999998\n",
            "Epoch: 553 \tTraining Loss: 1.999998\n",
            "Epoch: 554 \tTraining Loss: 1.999998\n",
            "Epoch: 555 \tTraining Loss: 1.999998\n",
            "Epoch: 556 \tTraining Loss: 1.999998\n",
            "Epoch: 557 \tTraining Loss: 1.999998\n",
            "Epoch: 558 \tTraining Loss: 1.999998\n",
            "Epoch: 559 \tTraining Loss: 1.999998\n",
            "Epoch: 560 \tTraining Loss: 1.999998\n",
            "Epoch: 561 \tTraining Loss: 1.999998\n",
            "Epoch: 562 \tTraining Loss: 1.999998\n",
            "Epoch: 563 \tTraining Loss: 1.999998\n",
            "Epoch: 564 \tTraining Loss: 1.999998\n",
            "Epoch: 565 \tTraining Loss: 1.999998\n",
            "Epoch: 566 \tTraining Loss: 1.999998\n",
            "Epoch: 567 \tTraining Loss: 1.999998\n",
            "Epoch: 568 \tTraining Loss: 1.999998\n",
            "Epoch: 569 \tTraining Loss: 1.999998\n",
            "Epoch: 570 \tTraining Loss: 1.999998\n",
            "Epoch: 571 \tTraining Loss: 1.999998\n",
            "Epoch: 572 \tTraining Loss: 1.999998\n",
            "Epoch: 573 \tTraining Loss: 1.999998\n",
            "Epoch: 574 \tTraining Loss: 1.999998\n",
            "Epoch: 575 \tTraining Loss: 1.999998\n",
            "Epoch: 576 \tTraining Loss: 1.999998\n",
            "Epoch: 577 \tTraining Loss: 1.999998\n",
            "Epoch: 578 \tTraining Loss: 1.999998\n",
            "Epoch: 579 \tTraining Loss: 1.999998\n",
            "Epoch: 580 \tTraining Loss: 1.999998\n",
            "Epoch: 581 \tTraining Loss: 1.999998\n",
            "Epoch: 582 \tTraining Loss: 1.999998\n",
            "Epoch: 583 \tTraining Loss: 1.999998\n",
            "Epoch: 584 \tTraining Loss: 1.999998\n",
            "Epoch: 585 \tTraining Loss: 1.999998\n",
            "Epoch: 586 \tTraining Loss: 1.999998\n",
            "Epoch: 587 \tTraining Loss: 1.999998\n",
            "Epoch: 588 \tTraining Loss: 1.999998\n",
            "Epoch: 589 \tTraining Loss: 1.999998\n",
            "Epoch: 590 \tTraining Loss: 1.999998\n",
            "Epoch: 591 \tTraining Loss: 1.999998\n",
            "Epoch: 592 \tTraining Loss: 1.999998\n",
            "Epoch: 593 \tTraining Loss: 1.999998\n",
            "Epoch: 594 \tTraining Loss: 1.999998\n",
            "Epoch: 595 \tTraining Loss: 1.999998\n",
            "Epoch: 596 \tTraining Loss: 1.999998\n",
            "Epoch: 597 \tTraining Loss: 1.999998\n",
            "Epoch: 598 \tTraining Loss: 1.999998\n",
            "Epoch: 599 \tTraining Loss: 1.999998\n",
            "Epoch: 600 \tTraining Loss: 1.999998\n",
            "Epoch: 601 \tTraining Loss: 1.999998\n",
            "Epoch: 602 \tTraining Loss: 1.999998\n",
            "Epoch: 603 \tTraining Loss: 1.999998\n",
            "Epoch: 604 \tTraining Loss: 1.999998\n",
            "Epoch: 605 \tTraining Loss: 1.999998\n",
            "Epoch: 606 \tTraining Loss: 1.999998\n",
            "Epoch: 607 \tTraining Loss: 1.999998\n",
            "Epoch: 608 \tTraining Loss: 1.999998\n",
            "Epoch: 609 \tTraining Loss: 1.999998\n",
            "Epoch: 610 \tTraining Loss: 1.999998\n",
            "Epoch: 611 \tTraining Loss: 1.999998\n",
            "Epoch: 612 \tTraining Loss: 1.999998\n",
            "Epoch: 613 \tTraining Loss: 1.999998\n",
            "Epoch: 614 \tTraining Loss: 1.999998\n",
            "Epoch: 615 \tTraining Loss: 1.999998\n",
            "Epoch: 616 \tTraining Loss: 1.999998\n",
            "Epoch: 617 \tTraining Loss: 1.999998\n",
            "Epoch: 618 \tTraining Loss: 1.999998\n",
            "Epoch: 619 \tTraining Loss: 1.999998\n",
            "Epoch: 620 \tTraining Loss: 1.999998\n",
            "Epoch: 621 \tTraining Loss: 1.999998\n",
            "Epoch: 622 \tTraining Loss: 1.999998\n",
            "Epoch: 623 \tTraining Loss: 1.999998\n",
            "Epoch: 624 \tTraining Loss: 1.999998\n",
            "Epoch: 625 \tTraining Loss: 1.999998\n",
            "Epoch: 626 \tTraining Loss: 1.999998\n",
            "Epoch: 627 \tTraining Loss: 1.999998\n",
            "Epoch: 628 \tTraining Loss: 1.999998\n",
            "Epoch: 629 \tTraining Loss: 1.999998\n",
            "Epoch: 630 \tTraining Loss: 1.999998\n",
            "Epoch: 631 \tTraining Loss: 1.999998\n",
            "Epoch: 632 \tTraining Loss: 1.999998\n",
            "Epoch: 633 \tTraining Loss: 1.999998\n",
            "Epoch: 634 \tTraining Loss: 1.999998\n",
            "Epoch: 635 \tTraining Loss: 1.999998\n",
            "Epoch: 636 \tTraining Loss: 1.999998\n",
            "Epoch: 637 \tTraining Loss: 1.999998\n",
            "Epoch: 638 \tTraining Loss: 1.999998\n",
            "Epoch: 639 \tTraining Loss: 1.999998\n",
            "Epoch: 640 \tTraining Loss: 1.999998\n",
            "Epoch: 641 \tTraining Loss: 1.999998\n",
            "Epoch: 642 \tTraining Loss: 1.999998\n",
            "Epoch: 643 \tTraining Loss: 1.999998\n",
            "Epoch: 644 \tTraining Loss: 1.999998\n",
            "Epoch: 645 \tTraining Loss: 1.999998\n",
            "Epoch: 646 \tTraining Loss: 1.999998\n",
            "Epoch: 647 \tTraining Loss: 1.999998\n",
            "Epoch: 648 \tTraining Loss: 1.999998\n",
            "Epoch: 649 \tTraining Loss: 1.999998\n",
            "Epoch: 650 \tTraining Loss: 1.999998\n",
            "Epoch: 651 \tTraining Loss: 1.999998\n",
            "Epoch: 652 \tTraining Loss: 1.999998\n",
            "Epoch: 653 \tTraining Loss: 1.999998\n",
            "Epoch: 654 \tTraining Loss: 1.999998\n",
            "Epoch: 655 \tTraining Loss: 1.999998\n",
            "Epoch: 656 \tTraining Loss: 1.999998\n",
            "Epoch: 657 \tTraining Loss: 1.999998\n",
            "Epoch: 658 \tTraining Loss: 1.999998\n",
            "Epoch: 659 \tTraining Loss: 1.999998\n",
            "Epoch: 660 \tTraining Loss: 1.999998\n",
            "Epoch: 661 \tTraining Loss: 1.999998\n",
            "Epoch: 662 \tTraining Loss: 1.999998\n",
            "Epoch: 663 \tTraining Loss: 1.999998\n",
            "Epoch: 664 \tTraining Loss: 1.999998\n",
            "Epoch: 665 \tTraining Loss: 1.999998\n",
            "Epoch: 666 \tTraining Loss: 1.999998\n",
            "Epoch: 667 \tTraining Loss: 1.999998\n",
            "Epoch: 668 \tTraining Loss: 1.999998\n",
            "Epoch: 669 \tTraining Loss: 1.999998\n",
            "Epoch: 670 \tTraining Loss: 1.999998\n",
            "Epoch: 671 \tTraining Loss: 1.999998\n",
            "Epoch: 672 \tTraining Loss: 1.999998\n",
            "Epoch: 673 \tTraining Loss: 1.999998\n",
            "Epoch: 674 \tTraining Loss: 1.999998\n",
            "Epoch: 675 \tTraining Loss: 1.999998\n",
            "Epoch: 676 \tTraining Loss: 1.999998\n",
            "Epoch: 677 \tTraining Loss: 1.999998\n",
            "Epoch: 678 \tTraining Loss: 1.999998\n",
            "Epoch: 679 \tTraining Loss: 1.999998\n",
            "Epoch: 680 \tTraining Loss: 1.999998\n",
            "Epoch: 681 \tTraining Loss: 1.999998\n",
            "Epoch: 682 \tTraining Loss: 1.999998\n",
            "Epoch: 683 \tTraining Loss: 1.999998\n",
            "Epoch: 684 \tTraining Loss: 1.999998\n",
            "Epoch: 685 \tTraining Loss: 1.999998\n",
            "Epoch: 686 \tTraining Loss: 1.999998\n",
            "Epoch: 687 \tTraining Loss: 1.999998\n",
            "Epoch: 688 \tTraining Loss: 1.999998\n",
            "Epoch: 689 \tTraining Loss: 1.999998\n",
            "Epoch: 690 \tTraining Loss: 1.999998\n",
            "Epoch: 691 \tTraining Loss: 1.999998\n",
            "Epoch: 692 \tTraining Loss: 1.999998\n",
            "Epoch: 693 \tTraining Loss: 1.999998\n",
            "Epoch: 694 \tTraining Loss: 1.999998\n",
            "Epoch: 695 \tTraining Loss: 1.999998\n",
            "Epoch: 696 \tTraining Loss: 1.999998\n",
            "Epoch: 697 \tTraining Loss: 1.999998\n",
            "Epoch: 698 \tTraining Loss: 1.999998\n",
            "Epoch: 699 \tTraining Loss: 1.999998\n",
            "Epoch: 700 \tTraining Loss: 1.999998\n",
            "Epoch: 701 \tTraining Loss: 1.999998\n",
            "Epoch: 702 \tTraining Loss: 1.999998\n",
            "Epoch: 703 \tTraining Loss: 1.999998\n",
            "Epoch: 704 \tTraining Loss: 1.999998\n",
            "Epoch: 705 \tTraining Loss: 1.999998\n",
            "Epoch: 706 \tTraining Loss: 1.999998\n",
            "Epoch: 707 \tTraining Loss: 1.999998\n",
            "Epoch: 708 \tTraining Loss: 1.999998\n",
            "Epoch: 709 \tTraining Loss: 1.999998\n",
            "Epoch: 710 \tTraining Loss: 1.999998\n",
            "Epoch: 711 \tTraining Loss: 1.999998\n",
            "Epoch: 712 \tTraining Loss: 1.999998\n",
            "Epoch: 713 \tTraining Loss: 1.999998\n",
            "Epoch: 714 \tTraining Loss: 1.999998\n",
            "Epoch: 715 \tTraining Loss: 1.999998\n",
            "Epoch: 716 \tTraining Loss: 1.999998\n",
            "Epoch: 717 \tTraining Loss: 1.999998\n",
            "Epoch: 718 \tTraining Loss: 1.999998\n",
            "Epoch: 719 \tTraining Loss: 1.999998\n",
            "Epoch: 720 \tTraining Loss: 1.999998\n",
            "Epoch: 721 \tTraining Loss: 1.999998\n",
            "Epoch: 722 \tTraining Loss: 1.999998\n",
            "Epoch: 723 \tTraining Loss: 1.999998\n",
            "Epoch: 724 \tTraining Loss: 1.999998\n",
            "Epoch: 725 \tTraining Loss: 1.999998\n",
            "Epoch: 726 \tTraining Loss: 1.999998\n",
            "Epoch: 727 \tTraining Loss: 1.999998\n",
            "Epoch: 728 \tTraining Loss: 1.999998\n",
            "Epoch: 729 \tTraining Loss: 1.999998\n",
            "Epoch: 730 \tTraining Loss: 1.999998\n",
            "Epoch: 731 \tTraining Loss: 1.999998\n",
            "Epoch: 732 \tTraining Loss: 1.999998\n",
            "Epoch: 733 \tTraining Loss: 1.999998\n",
            "Epoch: 734 \tTraining Loss: 1.999998\n",
            "Epoch: 735 \tTraining Loss: 1.999998\n",
            "Epoch: 736 \tTraining Loss: 1.999998\n",
            "Epoch: 737 \tTraining Loss: 1.999998\n",
            "Epoch: 738 \tTraining Loss: 1.999998\n",
            "Epoch: 739 \tTraining Loss: 1.999998\n",
            "Epoch: 740 \tTraining Loss: 1.999998\n",
            "Epoch: 741 \tTraining Loss: 1.999998\n",
            "Epoch: 742 \tTraining Loss: 1.999998\n",
            "Epoch: 743 \tTraining Loss: 1.999998\n",
            "Epoch: 744 \tTraining Loss: 1.999998\n",
            "Epoch: 745 \tTraining Loss: 1.999998\n",
            "Epoch: 746 \tTraining Loss: 1.999998\n",
            "Epoch: 747 \tTraining Loss: 1.999998\n",
            "Epoch: 748 \tTraining Loss: 1.999998\n",
            "Epoch: 749 \tTraining Loss: 1.999998\n",
            "Epoch: 750 \tTraining Loss: 1.999998\n",
            "Epoch: 751 \tTraining Loss: 1.999998\n",
            "Epoch: 752 \tTraining Loss: 1.999998\n",
            "Epoch: 753 \tTraining Loss: 1.999998\n",
            "Epoch: 754 \tTraining Loss: 1.999998\n",
            "Epoch: 755 \tTraining Loss: 1.999998\n",
            "Epoch: 756 \tTraining Loss: 1.999998\n",
            "Epoch: 757 \tTraining Loss: 1.999998\n",
            "Epoch: 758 \tTraining Loss: 1.999998\n",
            "Epoch: 759 \tTraining Loss: 1.999998\n",
            "Epoch: 760 \tTraining Loss: 1.999998\n",
            "Epoch: 761 \tTraining Loss: 1.999998\n",
            "Epoch: 762 \tTraining Loss: 1.999998\n",
            "Epoch: 763 \tTraining Loss: 1.999998\n",
            "Epoch: 764 \tTraining Loss: 1.999998\n",
            "Epoch: 765 \tTraining Loss: 1.999998\n",
            "Epoch: 766 \tTraining Loss: 1.999998\n",
            "Epoch: 767 \tTraining Loss: 1.999998\n",
            "Epoch: 768 \tTraining Loss: 1.999998\n",
            "Epoch: 769 \tTraining Loss: 1.999998\n",
            "Epoch: 770 \tTraining Loss: 1.999998\n",
            "Epoch: 771 \tTraining Loss: 1.999998\n",
            "Epoch: 772 \tTraining Loss: 1.999998\n",
            "Epoch: 773 \tTraining Loss: 1.999998\n",
            "Epoch: 774 \tTraining Loss: 1.999998\n",
            "Epoch: 775 \tTraining Loss: 1.999998\n",
            "Epoch: 776 \tTraining Loss: 1.999998\n",
            "Epoch: 777 \tTraining Loss: 1.999998\n",
            "Epoch: 778 \tTraining Loss: 1.999998\n",
            "Epoch: 779 \tTraining Loss: 1.999998\n",
            "Epoch: 780 \tTraining Loss: 1.999998\n",
            "Epoch: 781 \tTraining Loss: 1.999998\n",
            "Epoch: 782 \tTraining Loss: 1.999998\n",
            "Epoch: 783 \tTraining Loss: 1.999998\n",
            "Epoch: 784 \tTraining Loss: 1.999998\n",
            "Epoch: 785 \tTraining Loss: 1.999998\n",
            "Epoch: 786 \tTraining Loss: 1.999998\n",
            "Epoch: 787 \tTraining Loss: 1.999998\n",
            "Epoch: 788 \tTraining Loss: 1.999998\n",
            "Epoch: 789 \tTraining Loss: 1.999998\n",
            "Epoch: 790 \tTraining Loss: 1.999998\n",
            "Epoch: 791 \tTraining Loss: 1.999998\n",
            "Epoch: 792 \tTraining Loss: 1.999998\n",
            "Epoch: 793 \tTraining Loss: 1.999998\n",
            "Epoch: 794 \tTraining Loss: 1.999998\n",
            "Epoch: 795 \tTraining Loss: 1.999998\n",
            "Epoch: 796 \tTraining Loss: 1.999998\n",
            "Epoch: 797 \tTraining Loss: 1.999998\n",
            "Epoch: 798 \tTraining Loss: 1.999998\n",
            "Epoch: 799 \tTraining Loss: 1.999998\n",
            "Epoch: 800 \tTraining Loss: 1.999998\n",
            "Epoch: 801 \tTraining Loss: 1.999998\n",
            "Epoch: 802 \tTraining Loss: 1.999998\n",
            "Epoch: 803 \tTraining Loss: 1.999998\n",
            "Epoch: 804 \tTraining Loss: 1.999998\n",
            "Epoch: 805 \tTraining Loss: 1.999998\n",
            "Epoch: 806 \tTraining Loss: 1.999998\n",
            "Epoch: 807 \tTraining Loss: 1.999998\n",
            "Epoch: 808 \tTraining Loss: 1.999998\n",
            "Epoch: 809 \tTraining Loss: 1.999998\n",
            "Epoch: 810 \tTraining Loss: 1.999998\n",
            "Epoch: 811 \tTraining Loss: 1.999998\n",
            "Epoch: 812 \tTraining Loss: 1.999998\n",
            "Epoch: 813 \tTraining Loss: 1.999998\n",
            "Epoch: 814 \tTraining Loss: 1.999998\n",
            "Epoch: 815 \tTraining Loss: 1.999998\n",
            "Epoch: 816 \tTraining Loss: 1.999998\n",
            "Epoch: 817 \tTraining Loss: 1.999998\n",
            "Epoch: 818 \tTraining Loss: 1.999998\n",
            "Epoch: 819 \tTraining Loss: 1.999998\n",
            "Epoch: 820 \tTraining Loss: 1.999998\n",
            "Epoch: 821 \tTraining Loss: 1.999998\n",
            "Epoch: 822 \tTraining Loss: 1.999998\n",
            "Epoch: 823 \tTraining Loss: 1.999998\n",
            "Epoch: 824 \tTraining Loss: 1.999998\n",
            "Epoch: 825 \tTraining Loss: 1.999998\n",
            "Epoch: 826 \tTraining Loss: 1.999998\n",
            "Epoch: 827 \tTraining Loss: 1.999998\n",
            "Epoch: 828 \tTraining Loss: 1.999998\n",
            "Epoch: 829 \tTraining Loss: 1.999998\n",
            "Epoch: 830 \tTraining Loss: 1.999998\n",
            "Epoch: 831 \tTraining Loss: 1.999998\n",
            "Epoch: 832 \tTraining Loss: 1.999998\n",
            "Epoch: 833 \tTraining Loss: 1.999998\n",
            "Epoch: 834 \tTraining Loss: 1.999998\n",
            "Epoch: 835 \tTraining Loss: 1.999998\n",
            "Epoch: 836 \tTraining Loss: 1.999998\n",
            "Epoch: 837 \tTraining Loss: 1.999998\n",
            "Epoch: 838 \tTraining Loss: 1.999998\n",
            "Epoch: 839 \tTraining Loss: 1.999998\n",
            "Epoch: 840 \tTraining Loss: 1.999998\n",
            "Epoch: 841 \tTraining Loss: 1.999998\n",
            "Epoch: 842 \tTraining Loss: 1.999998\n",
            "Epoch: 843 \tTraining Loss: 1.999998\n",
            "Epoch: 844 \tTraining Loss: 1.999998\n",
            "Epoch: 845 \tTraining Loss: 1.999998\n",
            "Epoch: 846 \tTraining Loss: 1.999998\n",
            "Epoch: 847 \tTraining Loss: 1.999998\n",
            "Epoch: 848 \tTraining Loss: 1.999998\n",
            "Epoch: 849 \tTraining Loss: 1.999998\n",
            "Epoch: 850 \tTraining Loss: 1.999998\n",
            "Epoch: 851 \tTraining Loss: 1.999998\n",
            "Epoch: 852 \tTraining Loss: 1.999998\n",
            "Epoch: 853 \tTraining Loss: 1.999998\n",
            "Epoch: 854 \tTraining Loss: 1.999998\n",
            "Epoch: 855 \tTraining Loss: 1.999998\n",
            "Epoch: 856 \tTraining Loss: 1.999998\n",
            "Epoch: 857 \tTraining Loss: 1.999998\n",
            "Epoch: 858 \tTraining Loss: 1.999998\n",
            "Epoch: 859 \tTraining Loss: 1.999998\n",
            "Epoch: 860 \tTraining Loss: 1.999998\n",
            "Epoch: 861 \tTraining Loss: 1.999998\n",
            "Epoch: 862 \tTraining Loss: 1.999998\n",
            "Epoch: 863 \tTraining Loss: 1.999998\n",
            "Epoch: 864 \tTraining Loss: 1.999998\n",
            "Epoch: 865 \tTraining Loss: 1.999998\n",
            "Epoch: 866 \tTraining Loss: 1.999998\n",
            "Epoch: 867 \tTraining Loss: 1.999998\n",
            "Epoch: 868 \tTraining Loss: 1.999998\n",
            "Epoch: 869 \tTraining Loss: 1.999998\n",
            "Epoch: 870 \tTraining Loss: 1.999998\n",
            "Epoch: 871 \tTraining Loss: 1.999998\n",
            "Epoch: 872 \tTraining Loss: 1.999998\n",
            "Epoch: 873 \tTraining Loss: 1.999998\n",
            "Epoch: 874 \tTraining Loss: 1.999998\n",
            "Epoch: 875 \tTraining Loss: 1.999998\n",
            "Epoch: 876 \tTraining Loss: 1.999998\n",
            "Epoch: 877 \tTraining Loss: 1.999998\n",
            "Epoch: 878 \tTraining Loss: 1.999998\n",
            "Epoch: 879 \tTraining Loss: 1.999998\n",
            "Epoch: 880 \tTraining Loss: 1.999998\n",
            "Epoch: 881 \tTraining Loss: 1.999998\n",
            "Epoch: 882 \tTraining Loss: 1.999998\n",
            "Epoch: 883 \tTraining Loss: 1.999998\n",
            "Epoch: 884 \tTraining Loss: 1.999998\n",
            "Epoch: 885 \tTraining Loss: 1.999998\n",
            "Epoch: 886 \tTraining Loss: 1.999998\n",
            "Epoch: 887 \tTraining Loss: 1.999998\n",
            "Epoch: 888 \tTraining Loss: 1.999998\n",
            "Epoch: 889 \tTraining Loss: 1.999998\n",
            "Epoch: 890 \tTraining Loss: 1.999998\n",
            "Epoch: 891 \tTraining Loss: 1.999998\n",
            "Epoch: 892 \tTraining Loss: 1.999998\n",
            "Epoch: 893 \tTraining Loss: 1.999998\n",
            "Epoch: 894 \tTraining Loss: 1.999998\n",
            "Epoch: 895 \tTraining Loss: 1.999998\n",
            "Epoch: 896 \tTraining Loss: 1.999998\n",
            "Epoch: 897 \tTraining Loss: 1.999998\n",
            "Epoch: 898 \tTraining Loss: 1.999998\n",
            "Epoch: 899 \tTraining Loss: 1.999998\n",
            "Epoch: 900 \tTraining Loss: 1.999998\n",
            "Epoch: 901 \tTraining Loss: 1.999998\n",
            "Epoch: 902 \tTraining Loss: 1.999998\n",
            "Epoch: 903 \tTraining Loss: 1.999998\n",
            "Epoch: 904 \tTraining Loss: 1.999998\n",
            "Epoch: 905 \tTraining Loss: 1.999998\n",
            "Epoch: 906 \tTraining Loss: 1.999998\n",
            "Epoch: 907 \tTraining Loss: 1.999998\n",
            "Epoch: 908 \tTraining Loss: 1.999998\n",
            "Epoch: 909 \tTraining Loss: 1.999998\n",
            "Epoch: 910 \tTraining Loss: 1.999997\n",
            "Epoch: 911 \tTraining Loss: 1.999998\n",
            "Epoch: 912 \tTraining Loss: 1.999998\n",
            "Epoch: 913 \tTraining Loss: 1.999998\n",
            "Epoch: 914 \tTraining Loss: 1.999997\n",
            "Epoch: 915 \tTraining Loss: 1.999998\n",
            "Epoch: 916 \tTraining Loss: 1.999998\n",
            "Epoch: 917 \tTraining Loss: 1.999998\n",
            "Epoch: 918 \tTraining Loss: 1.999997\n",
            "Epoch: 919 \tTraining Loss: 1.999997\n",
            "Epoch: 920 \tTraining Loss: 1.999998\n",
            "Epoch: 921 \tTraining Loss: 1.999998\n",
            "Epoch: 922 \tTraining Loss: 1.999997\n",
            "Epoch: 923 \tTraining Loss: 1.999998\n",
            "Epoch: 924 \tTraining Loss: 1.999997\n",
            "Epoch: 925 \tTraining Loss: 1.999997\n",
            "Epoch: 926 \tTraining Loss: 1.999998\n",
            "Epoch: 927 \tTraining Loss: 1.999997\n",
            "Epoch: 928 \tTraining Loss: 1.999997\n",
            "Epoch: 929 \tTraining Loss: 1.999997\n",
            "Epoch: 930 \tTraining Loss: 1.999998\n",
            "Epoch: 931 \tTraining Loss: 1.999997\n",
            "Epoch: 932 \tTraining Loss: 1.999998\n",
            "Epoch: 933 \tTraining Loss: 1.999997\n",
            "Epoch: 934 \tTraining Loss: 1.999997\n",
            "Epoch: 935 \tTraining Loss: 1.999997\n",
            "Epoch: 936 \tTraining Loss: 1.999997\n",
            "Epoch: 937 \tTraining Loss: 1.999998\n",
            "Epoch: 938 \tTraining Loss: 1.999998\n",
            "Epoch: 939 \tTraining Loss: 1.999997\n",
            "Epoch: 940 \tTraining Loss: 1.999997\n",
            "Epoch: 941 \tTraining Loss: 1.999997\n",
            "Epoch: 942 \tTraining Loss: 1.999997\n",
            "Epoch: 943 \tTraining Loss: 1.999997\n",
            "Epoch: 944 \tTraining Loss: 1.999997\n",
            "Epoch: 945 \tTraining Loss: 1.999997\n",
            "Epoch: 946 \tTraining Loss: 1.999997\n",
            "Epoch: 947 \tTraining Loss: 1.999998\n",
            "Epoch: 948 \tTraining Loss: 1.999997\n",
            "Epoch: 949 \tTraining Loss: 1.999997\n",
            "Epoch: 950 \tTraining Loss: 1.999998\n",
            "Epoch: 951 \tTraining Loss: 1.999997\n",
            "Epoch: 952 \tTraining Loss: 1.999997\n",
            "Epoch: 953 \tTraining Loss: 1.999997\n",
            "Epoch: 954 \tTraining Loss: 1.999997\n",
            "Epoch: 955 \tTraining Loss: 1.999998\n",
            "Epoch: 956 \tTraining Loss: 1.999997\n",
            "Epoch: 957 \tTraining Loss: 1.999997\n",
            "Epoch: 958 \tTraining Loss: 1.999997\n",
            "Epoch: 959 \tTraining Loss: 1.999997\n",
            "Epoch: 960 \tTraining Loss: 1.999997\n",
            "Epoch: 961 \tTraining Loss: 1.999997\n",
            "Epoch: 962 \tTraining Loss: 1.999997\n",
            "Epoch: 963 \tTraining Loss: 1.999997\n",
            "Epoch: 964 \tTraining Loss: 1.999997\n",
            "Epoch: 965 \tTraining Loss: 1.999997\n",
            "Epoch: 966 \tTraining Loss: 1.999997\n",
            "Epoch: 967 \tTraining Loss: 1.999997\n",
            "Epoch: 968 \tTraining Loss: 1.999997\n",
            "Epoch: 969 \tTraining Loss: 1.999997\n",
            "Epoch: 970 \tTraining Loss: 1.999997\n",
            "Epoch: 971 \tTraining Loss: 1.999997\n",
            "Epoch: 972 \tTraining Loss: 1.999997\n",
            "Epoch: 973 \tTraining Loss: 1.999997\n",
            "Epoch: 974 \tTraining Loss: 1.999997\n",
            "Epoch: 975 \tTraining Loss: 1.999997\n",
            "Epoch: 976 \tTraining Loss: 1.999997\n",
            "Epoch: 977 \tTraining Loss: 1.999997\n",
            "Epoch: 978 \tTraining Loss: 1.999997\n",
            "Epoch: 979 \tTraining Loss: 1.999997\n",
            "Epoch: 980 \tTraining Loss: 1.999997\n",
            "Epoch: 981 \tTraining Loss: 1.999997\n",
            "Epoch: 982 \tTraining Loss: 1.999997\n",
            "Epoch: 983 \tTraining Loss: 1.999997\n",
            "Epoch: 984 \tTraining Loss: 1.999997\n",
            "Epoch: 985 \tTraining Loss: 1.999997\n",
            "Epoch: 986 \tTraining Loss: 1.999997\n",
            "Epoch: 987 \tTraining Loss: 1.999997\n",
            "Epoch: 988 \tTraining Loss: 1.999997\n",
            "Epoch: 989 \tTraining Loss: 1.999997\n",
            "Epoch: 990 \tTraining Loss: 1.999997\n",
            "Epoch: 991 \tTraining Loss: 1.999997\n",
            "Epoch: 992 \tTraining Loss: 1.999997\n",
            "Epoch: 993 \tTraining Loss: 1.999997\n",
            "Epoch: 994 \tTraining Loss: 1.999997\n",
            "Epoch: 995 \tTraining Loss: 1.999997\n",
            "Epoch: 996 \tTraining Loss: 1.999997\n",
            "Epoch: 997 \tTraining Loss: 1.999997\n",
            "Epoch: 998 \tTraining Loss: 1.999997\n",
            "Epoch: 999 \tTraining Loss: 1.999997\n",
            "Epoch: 1000 \tTraining Loss: 1.999997\n"
          ]
        }
      ]
    },
    {
      "cell_type": "code",
      "source": [
        "# initialize lists to monitor test loss and accuracy\n",
        "model.eval() # prep model for *evaluation*\n",
        "x_test = [[1,1,1]]\n",
        "x_test_tensor = torch.tensor(x_test, dtype=torch.float32, device=device)\n",
        "\n",
        "output = model(x_test_tensor)\n",
        "y_pred = 1 if output.detach().numpy()[0][0] >= 0.4999 else 0\n",
        "\n",
        "print(output)\n",
        "print(y_pred)"
      ],
      "metadata": {
        "id": "k8mQunwxUCh8",
        "colab": {
          "base_uri": "https://localhost:8080/"
        },
        "outputId": "a19158f1-b8df-4aaa-b48b-b6358bb04bfb"
      },
      "execution_count": 300,
      "outputs": [
        {
          "output_type": "stream",
          "name": "stdout",
          "text": [
            "tensor([[0.4998]], grad_fn=<AddmmBackward0>)\n",
            "0\n"
          ]
        }
      ]
    },
    {
      "cell_type": "code",
      "source": [
        "print('Model parameters:')\n",
        "print('  Weights: %s' % and_ppn.weights)\n",
        "print('  Bias: %s' % and_ppn.bias)"
      ],
      "metadata": {
        "colab": {
          "base_uri": "https://localhost:8080/"
        },
        "id": "ErtD8PBGza-_",
        "outputId": "67774867-5495-4c53-dc89-c0c1fbfb3bc0"
      },
      "execution_count": 301,
      "outputs": [
        {
          "output_type": "stream",
          "name": "stdout",
          "text": [
            "Model parameters:\n",
            "  Weights: tensor([[2.],\n",
            "        [1.]])\n",
            "  Bias: tensor([-2.])\n"
          ]
        }
      ]
    },
    {
      "cell_type": "code",
      "source": [
        "fig = plt.figure(figsize=(6,6))\n",
        "ax = fig.add_subplot(111,projection='3d')\n",
        "ax.scatter(0,0,0,c='r',label= 'class 0')\n",
        "ax.scatter(0,0,5,c='b',label= 'class 1')\n",
        "ax.scatter(0,5,0,c='b',label= 'class 1')\n",
        "ax.scatter(0,5,5,c='r',label= 'class 0')\n",
        "ax.scatter(5,0,0,c='b',label= 'class 1')\n",
        "ax.scatter(5,0,5,c='r',label= 'class 0')\n",
        "ax.scatter(5,5,0,c='r',label= 'class 0')\n",
        "ax.scatter(5,5,5,c='b',label= 'class 1')\n",
        "plt.title('Decision Boundary Created by the Hyper-plane')\n",
        "x_1 = np.arange(-0.5, 5.5, 0.5)\n",
        "y_1 = ((x_1 * model_weights[0,0]) + model_bias[0]) / (-model_weights[0,1])\n",
        "plt.plot(x_1, y_1)\n",
        "x_2 = np.arange(-0.5, 5.5, 0.5)\n",
        "y_2 = ((x_2 * model_weights[1,0]) + model_bias[1]) / (-model_weights[1,1])\n",
        "plt.plot(x_2, y_2)\n"
      ],
      "metadata": {
        "id": "hdYhCxwbUCrk",
        "colab": {
          "base_uri": "https://localhost:8080/",
          "height": 375
        },
        "outputId": "5280a633-1f0f-4778-eeb1-d53e7c2a8dee"
      },
      "execution_count": 302,
      "outputs": [
        {
          "output_type": "execute_result",
          "data": {
            "text/plain": [
              "[<mpl_toolkits.mplot3d.art3d.Line3D at 0x7f3ee1a10890>]"
            ]
          },
          "metadata": {},
          "execution_count": 302
        },
        {
          "output_type": "display_data",
          "data": {
            "text/plain": [
              "<Figure size 432x432 with 1 Axes>"
            ],
            "image/png": "[encoded data removed]"
          },
          "metadata": {
            "needs_background": "light"
          }
        }
      ]
    },
    {
      "cell_type": "code",
      "source": [],
      "metadata": {
        "id": "tIEF20yXHLmm"
      },
      "execution_count": null,
      "outputs": []
    },
    {
      "cell_type": "code",
      "source": [],
      "metadata": {
        "id": "DLt9rBOBHLpM"
      },
      "execution_count": null,
      "outputs": []
    },
    {
      "cell_type": "code",
      "source": [],
      "metadata": {
        "id": "OBVEFkWmHLr0"
      },
      "execution_count": null,
      "outputs": []
    },
    {
      "cell_type": "code",
      "source": [],
      "metadata": {
        "id": "JFhbcRKwHLu-"
      },
      "execution_count": null,
      "outputs": []
    }
  ],
  "metadata": {
    "colab": {
      "collapsed_sections": [],
      "provenance": []
    },
    "kernelspec": {
      "display_name": "Python 3.9.4 ('pythonProject')",
      "language": "python",
      "name": "python3"
    },
    "language_info": {
      "name": "python",
      "version": "3.9.4"
    },
    "vscode": {
      "interpreter": {
        "hash": "3cabdd3e2ff639c42bcd176133c13464a9a556feee9520821db8d879585106f9"
      }
    }
  },
  "nbformat": 4,
  "nbformat_minor": 0
}